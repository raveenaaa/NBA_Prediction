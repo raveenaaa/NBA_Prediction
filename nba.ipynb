{
  "nbformat": 4,
  "nbformat_minor": 0,
  "metadata": {
    "colab": {
      "name": "nba.ipynb",
      "provenance": [],
      "collapsed_sections": []
    },
    "kernelspec": {
      "name": "python3",
      "display_name": "Python 3"
    },
    "accelerator": "GPU"
  },
  "cells": [
    {
      "cell_type": "code",
      "metadata": {
        "id": "I4IceyGH-0fP",
        "colab_type": "code",
        "outputId": "7419a5a8-75d9-4eb0-ff80-e444d47a806e",
        "colab": {
          "base_uri": "https://localhost:8080/",
          "height": 122
        }
      },
      "source": [
        "from google.colab import drive\n",
        "drive.mount('/content/drive', force_remount=True)"
      ],
      "execution_count": 1,
      "outputs": [
        {
          "output_type": "stream",
          "text": [
            "Go to this URL in a browser: https://accounts.google.com/o/oauth2/auth?client_id=947318989803-6bn6qk8qdgf4n4g3pfee6491hc0brc4i.apps.googleusercontent.com&redirect_uri=urn%3aietf%3awg%3aoauth%3a2.0%3aoob&response_type=code&scope=email%20https%3a%2f%2fwww.googleapis.com%2fauth%2fdocs.test%20https%3a%2f%2fwww.googleapis.com%2fauth%2fdrive%20https%3a%2f%2fwww.googleapis.com%2fauth%2fdrive.photos.readonly%20https%3a%2f%2fwww.googleapis.com%2fauth%2fpeopleapi.readonly\n",
            "\n",
            "Enter your authorization code:\n",
            "··········\n",
            "Mounted at /content/drive\n"
          ],
          "name": "stdout"
        }
      ]
    },
    {
      "cell_type": "code",
      "metadata": {
        "id": "cH2q9INtz363",
        "colab_type": "code",
        "outputId": "36112ad2-b84c-4be9-e2ce-41c93700df75",
        "colab": {
          "base_uri": "https://localhost:8080/",
          "height": 207
        }
      },
      "source": [
        "!pip show matplotlib"
      ],
      "execution_count": 2,
      "outputs": [
        {
          "output_type": "stream",
          "text": [
            "Name: matplotlib\n",
            "Version: 3.1.2\n",
            "Summary: Python plotting package\n",
            "Home-page: https://matplotlib.org\n",
            "Author: John D. Hunter, Michael Droettboom\n",
            "Author-email: matplotlib-users@python.org\n",
            "License: PSF\n",
            "Location: /usr/local/lib/python3.6/dist-packages\n",
            "Requires: pyparsing, numpy, kiwisolver, python-dateutil, cycler\n",
            "Required-by: yellowbrick, stable-baselines, seaborn, scikit-image, plotnine, pandas-profiling, mlxtend, mizani, missingno, matplotlib-venn, magenta, keras-vis, imgaug, fbprophet, fastai, descartes, daft\n"
          ],
          "name": "stdout"
        }
      ]
    },
    {
      "cell_type": "code",
      "metadata": {
        "id": "clBt2HRQwsBY",
        "colab_type": "code",
        "outputId": "2c1ed7c9-8025-446f-ebb6-13ee02789fc9",
        "colab": {
          "base_uri": "https://localhost:8080/",
          "height": 258
        }
      },
      "source": [
        "!pip install pyspark"
      ],
      "execution_count": 3,
      "outputs": [
        {
          "output_type": "stream",
          "text": [
            "Collecting pyspark\n",
            "\u001b[?25l  Downloading https://files.pythonhosted.org/packages/87/21/f05c186f4ddb01d15d0ddc36ef4b7e3cedbeb6412274a41f26b55a650ee5/pyspark-2.4.4.tar.gz (215.7MB)\n",
            "\u001b[K     |████████████████████████████████| 215.7MB 67kB/s \n",
            "\u001b[?25hCollecting py4j==0.10.7\n",
            "\u001b[?25l  Downloading https://files.pythonhosted.org/packages/e3/53/c737818eb9a7dc32a7cd4f1396e787bd94200c3997c72c1dbe028587bd76/py4j-0.10.7-py2.py3-none-any.whl (197kB)\n",
            "\u001b[K     |████████████████████████████████| 204kB 70.4MB/s \n",
            "\u001b[?25hBuilding wheels for collected packages: pyspark\n",
            "  Building wheel for pyspark (setup.py) ... \u001b[?25l\u001b[?25hdone\n",
            "  Created wheel for pyspark: filename=pyspark-2.4.4-py2.py3-none-any.whl size=216130387 sha256=0b037a0c9d01852a3c0393b0793de5d36c1d756b630fcdc7b3722f6c30029562\n",
            "  Stored in directory: /root/.cache/pip/wheels/ab/09/4d/0d184230058e654eb1b04467dbc1292f00eaa186544604b471\n",
            "Successfully built pyspark\n",
            "Installing collected packages: py4j, pyspark\n",
            "Successfully installed py4j-0.10.7 pyspark-2.4.4\n"
          ],
          "name": "stdout"
        }
      ]
    },
    {
      "cell_type": "code",
      "metadata": {
        "id": "De8QeNdbA64g",
        "colab_type": "code",
        "outputId": "93e948b4-bb6b-4efb-829d-98cf864a9cbd",
        "colab": {
          "base_uri": "https://localhost:8080/",
          "height": 85
        }
      },
      "source": [
        "!apt-get install openjdk-8-jdk-headless -qq > /dev/null \n",
        "import os \n",
        "os.environ[\"JAVA_HOME\"] = \"/usr/lib/jvm/java-8-openjdk-amd64\" \n",
        "!update-alternatives --set java /usr/lib/jvm/java-8-openjdk-amd64/jre/bin/java \n",
        "!java -version\n"
      ],
      "execution_count": 4,
      "outputs": [
        {
          "output_type": "stream",
          "text": [
            "update-alternatives: using /usr/lib/jvm/java-8-openjdk-amd64/jre/bin/java to provide /usr/bin/java (java) in manual mode\n",
            "openjdk version \"1.8.0_222\"\n",
            "OpenJDK Runtime Environment (build 1.8.0_222-8u222-b10-1ubuntu1~18.04.1-b10)\n",
            "OpenJDK 64-Bit Server VM (build 25.222-b10, mixed mode)\n"
          ],
          "name": "stdout"
        }
      ]
    },
    {
      "cell_type": "code",
      "metadata": {
        "id": "t6hTjHwpBDEQ",
        "colab_type": "code",
        "colab": {}
      },
      "source": [
        "from pyspark import SparkConf, SparkContext\n",
        "conf = SparkConf().setMaster(\"local\").setAppName(\"My App\") \n",
        "sc = SparkContext(conf = conf)\n"
      ],
      "execution_count": 0,
      "outputs": []
    },
    {
      "cell_type": "code",
      "metadata": {
        "id": "1iWoz1rVI-gR",
        "colab_type": "code",
        "colab": {}
      },
      "source": [
        "import pandas as pd\n",
        "from collections import defaultdict\n",
        "import seaborn as sns\n",
        "import matplotlib.pyplot as plt\n",
        "from sklearn.decomposition import PCA\n",
        "from sklearn.linear_model import LogisticRegression\n",
        "import numpy as np\n",
        "from nltk.classify import maxent\n",
        "\n",
        "from sklearn.tree import DecisionTreeClassifier\n",
        "from sklearn.metrics import classification_report\n",
        "from sklearn.ensemble import AdaBoostClassifier"
      ],
      "execution_count": 0,
      "outputs": []
    },
    {
      "cell_type": "code",
      "metadata": {
        "id": "9Qq_t01HKsL8",
        "colab_type": "code",
        "colab": {}
      },
      "source": [
        "nba_df = pd.read_csv('/content/drive/My Drive/nba.csv')"
      ],
      "execution_count": 0,
      "outputs": []
    },
    {
      "cell_type": "code",
      "metadata": {
        "id": "s9cxQFKAB9MV",
        "colab_type": "code",
        "outputId": "7d260cf4-bdfc-4fa1-9e38-05f05e9b01eb",
        "colab": {
          "base_uri": "https://localhost:8080/",
          "height": 111
        }
      },
      "source": [
        "nba_df.head(2)\n",
        "#nba_df.loc[nba_df['Team']=='Sacramento Kings*'].index[0]"
      ],
      "execution_count": 8,
      "outputs": [
        {
          "output_type": "execute_result",
          "data": {
            "text/html": [
              "<div>\n",
              "<style scoped>\n",
              "    .dataframe tbody tr th:only-of-type {\n",
              "        vertical-align: middle;\n",
              "    }\n",
              "\n",
              "    .dataframe tbody tr th {\n",
              "        vertical-align: top;\n",
              "    }\n",
              "\n",
              "    .dataframe thead th {\n",
              "        text-align: right;\n",
              "    }\n",
              "</style>\n",
              "<table border=\"1\" class=\"dataframe\">\n",
              "  <thead>\n",
              "    <tr style=\"text-align: right;\">\n",
              "      <th></th>\n",
              "      <th>Rk</th>\n",
              "      <th>Team</th>\n",
              "      <th>G</th>\n",
              "      <th>MP</th>\n",
              "      <th>FG</th>\n",
              "      <th>FGA</th>\n",
              "      <th>FG%</th>\n",
              "      <th>3P</th>\n",
              "      <th>3PA</th>\n",
              "      <th>3P%</th>\n",
              "      <th>2P</th>\n",
              "      <th>2PA</th>\n",
              "      <th>2P%</th>\n",
              "      <th>FT</th>\n",
              "      <th>FTA</th>\n",
              "      <th>FT%</th>\n",
              "      <th>ORB</th>\n",
              "      <th>DRB</th>\n",
              "      <th>TRB</th>\n",
              "      <th>AST</th>\n",
              "      <th>STL</th>\n",
              "      <th>BLK</th>\n",
              "      <th>TOV</th>\n",
              "      <th>PF</th>\n",
              "      <th>PTS</th>\n",
              "    </tr>\n",
              "  </thead>\n",
              "  <tbody>\n",
              "    <tr>\n",
              "      <th>0</th>\n",
              "      <td>1</td>\n",
              "      <td>Phoenix Suns*</td>\n",
              "      <td>82</td>\n",
              "      <td>19780</td>\n",
              "      <td>3351</td>\n",
              "      <td>7018</td>\n",
              "      <td>0.477</td>\n",
              "      <td>796</td>\n",
              "      <td>2026</td>\n",
              "      <td>0.393</td>\n",
              "      <td>2555</td>\n",
              "      <td>4992</td>\n",
              "      <td>0.512</td>\n",
              "      <td>1556</td>\n",
              "      <td>2080</td>\n",
              "      <td>0.748</td>\n",
              "      <td>967</td>\n",
              "      <td>2652</td>\n",
              "      <td>3619</td>\n",
              "      <td>1927</td>\n",
              "      <td>572</td>\n",
              "      <td>453</td>\n",
              "      <td>1125</td>\n",
              "      <td>1563</td>\n",
              "      <td>9054</td>\n",
              "    </tr>\n",
              "    <tr>\n",
              "      <th>1</th>\n",
              "      <td>2</td>\n",
              "      <td>Sacramento Kings*</td>\n",
              "      <td>82</td>\n",
              "      <td>19855</td>\n",
              "      <td>3203</td>\n",
              "      <td>6978</td>\n",
              "      <td>0.459</td>\n",
              "      <td>522</td>\n",
              "      <td>1396</td>\n",
              "      <td>0.374</td>\n",
              "      <td>2681</td>\n",
              "      <td>5582</td>\n",
              "      <td>0.480</td>\n",
              "      <td>1577</td>\n",
              "      <td>2004</td>\n",
              "      <td>0.787</td>\n",
              "      <td>1023</td>\n",
              "      <td>2455</td>\n",
              "      <td>3478</td>\n",
              "      <td>2005</td>\n",
              "      <td>674</td>\n",
              "      <td>316</td>\n",
              "      <td>1073</td>\n",
              "      <td>1685</td>\n",
              "      <td>8505</td>\n",
              "    </tr>\n",
              "  </tbody>\n",
              "</table>\n",
              "</div>"
            ],
            "text/plain": [
              "   Rk               Team   G     MP    FG  ...  STL  BLK   TOV    PF   PTS\n",
              "0   1      Phoenix Suns*  82  19780  3351  ...  572  453  1125  1563  9054\n",
              "1   2  Sacramento Kings*  82  19855  3203  ...  674  316  1073  1685  8505\n",
              "\n",
              "[2 rows x 25 columns]"
            ]
          },
          "metadata": {
            "tags": []
          },
          "execution_count": 8
        }
      ]
    },
    {
      "cell_type": "code",
      "metadata": {
        "id": "UvADIE-lSexa",
        "colab_type": "code",
        "outputId": "5b82d44e-baaf-43b5-f5c1-85fbcda12a0e",
        "colab": {
          "base_uri": "https://localhost:8080/",
          "height": 442
        }
      },
      "source": [
        "nba_df.mean()"
      ],
      "execution_count": 9,
      "outputs": [
        {
          "output_type": "execute_result",
          "data": {
            "text/plain": [
              "Rk        15.500000\n",
              "G         82.000000\n",
              "MP     19833.333333\n",
              "FG      2947.833333\n",
              "FGA     6587.533333\n",
              "FG%        0.447433\n",
              "3P       459.233333\n",
              "3PA     1291.600000\n",
              "3P%        0.353167\n",
              "2P      2488.600000\n",
              "2PA     5295.933333\n",
              "2P%        0.470067\n",
              "FT      1615.400000\n",
              "FTA     2136.500000\n",
              "FT%        0.756500\n",
              "ORB      984.800000\n",
              "DRB     2447.533333\n",
              "TRB     3432.333333\n",
              "AST     1744.733333\n",
              "STL      616.300000\n",
              "BLK      398.766667\n",
              "TOV     1189.233333\n",
              "PF      1855.700000\n",
              "PTS     7970.300000\n",
              "dtype: float64"
            ]
          },
          "metadata": {
            "tags": []
          },
          "execution_count": 9
        }
      ]
    },
    {
      "cell_type": "code",
      "metadata": {
        "id": "lykGBsPISllQ",
        "colab_type": "code",
        "outputId": "1f199103-9481-440d-e67e-0d188a58953d",
        "colab": {
          "base_uri": "https://localhost:8080/",
          "height": 260
        }
      },
      "source": [
        "x_axis = nba_df.columns\n",
        "y_axis = nba_df.mean()\n",
        "\n",
        "\n",
        "x_axis = (x_axis.to_list())\n",
        "x_axis.remove('Team')\n",
        "x_axis.remove('MP')\n",
        "\n",
        "\n",
        "y_axis = y_axis.to_list()\n",
        "del y_axis[2]\n",
        "plt.plot(x_axis,y_axis,color = 'r')\n",
        "plt.bar(x_axis,y_axis)\n",
        "plt.tick_params(axis='x', which='major', labelsize=5.5)\n",
        "plt.savefig('feature_mean.png')\n",
        "plt.show()\n",
        "\n"
      ],
      "execution_count": 10,
      "outputs": [
        {
          "output_type": "display_data",
          "data": {
            "image/png": "[encoded data removed]",
            "text/plain": [
              "<Figure size 432x288 with 1 Axes>"
            ]
          },
          "metadata": {
            "tags": []
          }
        }
      ]
    },
    {
      "cell_type": "code",
      "metadata": {
        "id": "DBccX5YeqtSF",
        "colab_type": "code",
        "outputId": "d8be6095-ea6a-47d3-de83-0b99b4becefb",
        "colab": {
          "base_uri": "https://localhost:8080/",
          "height": 541
        }
      },
      "source": [
        "sns.set(style=\"ticks\", color_codes=True)\n",
        "sns.pairplot(nba_df[[\"AST\", \"FG\", \"TRB\"]])\n",
        "plt.show()"
      ],
      "execution_count": 11,
      "outputs": [
        {
          "output_type": "display_data",
          "data": {
            "image/png": "[encoded data removed]",
            "text/plain": [
              "<Figure size 540x540 with 12 Axes>"
            ]
          },
          "metadata": {
            "tags": []
          }
        }
      ]
    },
    {
      "cell_type": "code",
      "metadata": {
        "id": "NW8bYiZdY4FD",
        "colab_type": "code",
        "outputId": "f82e5ce1-61ce-4a39-fbf1-b35a9958f755",
        "colab": {
          "base_uri": "https://localhost:8080/",
          "height": 285
        }
      },
      "source": [
        "correlation = nba_df[[\"AST\", \"FG\", \"TRB\"]].corr()\n",
        "sns.heatmap(correlation, annot=True)"
      ],
      "execution_count": 12,
      "outputs": [
        {
          "output_type": "execute_result",
          "data": {
            "text/plain": [
              "<matplotlib.axes._subplots.AxesSubplot at 0x7fde77d29898>"
            ]
          },
          "metadata": {
            "tags": []
          },
          "execution_count": 12
        },
        {
          "output_type": "display_data",
          "data": {
            "image/png": "[encoded data removed]",
            "text/plain": [
              "<Figure size 432x288 with 2 Axes>"
            ]
          },
          "metadata": {
            "tags": []
          }
        }
      ]
    },
    {
      "cell_type": "code",
      "metadata": {
        "id": "d60wUnA1K3J5",
        "colab_type": "code",
        "colab": {}
      },
      "source": [
        "season_matches_df = pd.read_csv('/content/drive/My Drive/season.csv')"
      ],
      "execution_count": 0,
      "outputs": []
    },
    {
      "cell_type": "code",
      "metadata": {
        "id": "JP_SI5uoqtsg",
        "colab_type": "code",
        "colab": {
          "base_uri": "https://localhost:8080/",
          "height": 204
        },
        "outputId": "d0cfb896-9480-497f-956d-079c2ad06901"
      },
      "source": [
        "season_matches_df.head(5)"
      ],
      "execution_count": 14,
      "outputs": [
        {
          "output_type": "execute_result",
          "data": {
            "text/html": [
              "<div>\n",
              "<style scoped>\n",
              "    .dataframe tbody tr th:only-of-type {\n",
              "        vertical-align: middle;\n",
              "    }\n",
              "\n",
              "    .dataframe tbody tr th {\n",
              "        vertical-align: top;\n",
              "    }\n",
              "\n",
              "    .dataframe thead th {\n",
              "        text-align: right;\n",
              "    }\n",
              "</style>\n",
              "<table border=\"1\" class=\"dataframe\">\n",
              "  <thead>\n",
              "    <tr style=\"text-align: right;\">\n",
              "      <th></th>\n",
              "      <th>Date</th>\n",
              "      <th>Start (ET)</th>\n",
              "      <th>Visitor/Neutral</th>\n",
              "      <th>PTS</th>\n",
              "      <th>Home/Neutral</th>\n",
              "      <th>PTS.1</th>\n",
              "      <th>Unnamed: 6</th>\n",
              "      <th>Unnamed: 7</th>\n",
              "      <th>Attend.</th>\n",
              "      <th>Notes</th>\n",
              "    </tr>\n",
              "  </thead>\n",
              "  <tbody>\n",
              "    <tr>\n",
              "      <th>0</th>\n",
              "      <td>Tue Nov 2 2004</td>\n",
              "      <td>8:00p</td>\n",
              "      <td>Houston Rockets</td>\n",
              "      <td>79</td>\n",
              "      <td>Detroit Pistons</td>\n",
              "      <td>87</td>\n",
              "      <td>Box Score</td>\n",
              "      <td>NaN</td>\n",
              "      <td>22076</td>\n",
              "      <td>NaN</td>\n",
              "    </tr>\n",
              "    <tr>\n",
              "      <th>1</th>\n",
              "      <td>Tue Nov 2 2004</td>\n",
              "      <td>8:30p</td>\n",
              "      <td>Sacramento Kings</td>\n",
              "      <td>98</td>\n",
              "      <td>Dallas Mavericks</td>\n",
              "      <td>107</td>\n",
              "      <td>Box Score</td>\n",
              "      <td>NaN</td>\n",
              "      <td>20041</td>\n",
              "      <td>NaN</td>\n",
              "    </tr>\n",
              "    <tr>\n",
              "      <th>2</th>\n",
              "      <td>Tue Nov 2 2004</td>\n",
              "      <td>10:30p</td>\n",
              "      <td>Denver Nuggets</td>\n",
              "      <td>78</td>\n",
              "      <td>Los Angeles Lakers</td>\n",
              "      <td>89</td>\n",
              "      <td>Box Score</td>\n",
              "      <td>NaN</td>\n",
              "      <td>18997</td>\n",
              "      <td>NaN</td>\n",
              "    </tr>\n",
              "    <tr>\n",
              "      <th>3</th>\n",
              "      <td>Wed Nov 3 2004</td>\n",
              "      <td>7:00p</td>\n",
              "      <td>Indiana Pacers</td>\n",
              "      <td>109</td>\n",
              "      <td>Cleveland Cavaliers</td>\n",
              "      <td>104</td>\n",
              "      <td>Box Score</td>\n",
              "      <td>2OT</td>\n",
              "      <td>19730</td>\n",
              "      <td>NaN</td>\n",
              "    </tr>\n",
              "    <tr>\n",
              "      <th>4</th>\n",
              "      <td>Wed Nov 3 2004</td>\n",
              "      <td>7:00p</td>\n",
              "      <td>Milwaukee Bucks</td>\n",
              "      <td>92</td>\n",
              "      <td>Orlando Magic</td>\n",
              "      <td>93</td>\n",
              "      <td>Box Score</td>\n",
              "      <td>NaN</td>\n",
              "      <td>15138</td>\n",
              "      <td>NaN</td>\n",
              "    </tr>\n",
              "  </tbody>\n",
              "</table>\n",
              "</div>"
            ],
            "text/plain": [
              "             Date Start (ET)   Visitor/Neutral  ...  Unnamed: 7 Attend.  Notes\n",
              "0  Tue Nov 2 2004      8:00p   Houston Rockets  ...         NaN   22076    NaN\n",
              "1  Tue Nov 2 2004      8:30p  Sacramento Kings  ...         NaN   20041    NaN\n",
              "2  Tue Nov 2 2004     10:30p    Denver Nuggets  ...         NaN   18997    NaN\n",
              "3  Wed Nov 3 2004      7:00p    Indiana Pacers  ...         2OT   19730    NaN\n",
              "4  Wed Nov 3 2004      7:00p   Milwaukee Bucks  ...         NaN   15138    NaN\n",
              "\n",
              "[5 rows x 10 columns]"
            ]
          },
          "metadata": {
            "tags": []
          },
          "execution_count": 14
        }
      ]
    },
    {
      "cell_type": "code",
      "metadata": {
        "id": "4GK3nWGTNRxb",
        "colab_type": "code",
        "colab": {}
      },
      "source": [
        "playoff_matches_df = pd.read_csv('/content/drive/My Drive/playoffs.csv')"
      ],
      "execution_count": 0,
      "outputs": []
    },
    {
      "cell_type": "code",
      "metadata": {
        "id": "8hYehUB0NYYh",
        "colab_type": "code",
        "colab": {}
      },
      "source": [
        "nba_df_per_minute = nba_df.drop(columns=['Rk', 'FG%','3P%', '2P%', 'FT%'])\n",
        "nba_df_per_minute['TOV'] = -nba_df_per_minute['TOV']\n",
        "nba_df_per_minute['PF'] = -nba_df_per_minute['PF']\n",
        "nba_df_per_minute['Team'] = nba_df_per_minute['Team'].map(lambda x : x.replace(\"*\", \"\"))"
      ],
      "execution_count": 0,
      "outputs": []
    },
    {
      "cell_type": "code",
      "metadata": {
        "id": "0wpRhb3fNaN3",
        "colab_type": "code",
        "colab": {
          "base_uri": "https://localhost:8080/",
          "height": 119
        },
        "outputId": "ac16acf8-3b60-4d11-db17-7a9cda39e1d1"
      },
      "source": [
        "def add_winner(row):\n",
        "  if (row['PTS'] > row['PTS.1']):\n",
        "    return 1\n",
        "  return 2\n",
        "  \n",
        "team1_vs_team2 = season_matches_df[['Visitor/Neutral', 'Home/Neutral' ]] \n",
        "team1_vs_team2.columns = ['team1','team2']\n",
        "team1_vs_team2['winner'] = season_matches_df.apply (lambda row: add_winner(row), axis=1)"
      ],
      "execution_count": 17,
      "outputs": [
        {
          "output_type": "stream",
          "text": [
            "/usr/local/lib/python3.6/dist-packages/ipykernel_launcher.py:8: SettingWithCopyWarning: \n",
            "A value is trying to be set on a copy of a slice from a DataFrame.\n",
            "Try using .loc[row_indexer,col_indexer] = value instead\n",
            "\n",
            "See the caveats in the documentation: http://pandas.pydata.org/pandas-docs/stable/user_guide/indexing.html#returning-a-view-versus-a-copy\n",
            "  \n"
          ],
          "name": "stderr"
        }
      ]
    },
    {
      "cell_type": "code",
      "metadata": {
        "id": "EauXun-tUlrS",
        "colab_type": "code",
        "colab": {
          "base_uri": "https://localhost:8080/",
          "height": 119
        },
        "outputId": "19b6be05-0b27-471e-f13a-b5f56e90ebf3"
      },
      "source": [
        "def create_column(column_name, row):\n",
        "  team1_row = nba_df_per_minute.loc[nba_df_per_minute['Team'] == row['team1']]\n",
        "  team2_row = nba_df_per_minute.loc[nba_df_per_minute['Team'] == row['team2']]\n",
        "  return team1_row[column_name].tolist()[0] - team2_row[column_name].tolist()[0]\n",
        "\n",
        "for columnname in nba_df_per_minute.columns[3:]:\n",
        "  team1_vs_team2[columnname] = team1_vs_team2.apply(lambda row: create_column(columnname, row), axis=1)"
      ],
      "execution_count": 18,
      "outputs": [
        {
          "output_type": "stream",
          "text": [
            "/usr/local/lib/python3.6/dist-packages/ipykernel_launcher.py:7: SettingWithCopyWarning: \n",
            "A value is trying to be set on a copy of a slice from a DataFrame.\n",
            "Try using .loc[row_indexer,col_indexer] = value instead\n",
            "\n",
            "See the caveats in the documentation: http://pandas.pydata.org/pandas-docs/stable/user_guide/indexing.html#returning-a-view-versus-a-copy\n",
            "  import sys\n"
          ],
          "name": "stderr"
        }
      ]
    },
    {
      "cell_type": "code",
      "metadata": {
        "id": "ZQo4zLqgTyE-",
        "colab_type": "code",
        "colab": {}
      },
      "source": [
        "X = team1_vs_team2.loc[:,'FG':]\n",
        "X=(X-X.min())/(X.max()-X.min())\n",
        "y = team1_vs_team2['winner']"
      ],
      "execution_count": 0,
      "outputs": []
    },
    {
      "cell_type": "code",
      "metadata": {
        "id": "R0mvOQTsbb6J",
        "colab_type": "code",
        "colab": {}
      },
      "source": [
        "X_cov_matrix = X.cov()\n",
        "eigen_values, eigen_vectors = np.linalg.eig(X_cov_matrix)\n"
      ],
      "execution_count": 0,
      "outputs": []
    },
    {
      "cell_type": "code",
      "metadata": {
        "id": "RXjkj-xib6dz",
        "colab_type": "code",
        "colab": {
          "base_uri": "https://localhost:8080/",
          "height": 301
        },
        "outputId": "7d42b034-592f-4692-f95c-a20f037c641b"
      },
      "source": [
        "comps = [ i + 1 for i in range(len(eigen_values))] \n",
        "var = eigen_values\n",
        "# plotting the points \n",
        "plt.plot(comps, var) \n",
        "\n",
        "plt.xlabel('ith principal component') \n",
        "plt.ylabel('Eigen values') \n",
        "\n",
        "# # giving a title to my graph \n",
        "plt.title('Eigenvalues Screen Plot ') \n",
        "\n",
        "# # function to show the plot \n",
        "plt.show() "
      ],
      "execution_count": 21,
      "outputs": [
        {
          "output_type": "display_data",
          "data": {
            "image/png": "[encoded data removed]",
            "text/plain": [
              "<Figure size 432x288 with 1 Axes>"
            ]
          },
          "metadata": {
            "tags": []
          }
        }
      ]
    },
    {
      "cell_type": "code",
      "metadata": {
        "id": "6YiQwJPec8ED",
        "colab_type": "code",
        "colab": {}
      },
      "source": [
        "X = X.dot(eigen_vectors[:,:8])"
      ],
      "execution_count": 0,
      "outputs": []
    },
    {
      "cell_type": "code",
      "metadata": {
        "id": "xWaH71bigwLW",
        "colab_type": "code",
        "colab": {
          "base_uri": "https://localhost:8080/",
          "height": 71
        },
        "outputId": "cbc8d82e-9c6f-464c-b0aa-3d26c7010332"
      },
      "source": [
        "clf = LogisticRegression().fit(X, y)\n",
        "# preds = clf.predict(X)\n",
        "# print(preds)\n",
        "# print(classification_report(y, preds))"
      ],
      "execution_count": 23,
      "outputs": [
        {
          "output_type": "stream",
          "text": [
            "/usr/local/lib/python3.6/dist-packages/sklearn/linear_model/logistic.py:432: FutureWarning: Default solver will be changed to 'lbfgs' in 0.22. Specify a solver to silence this warning.\n",
            "  FutureWarning)\n"
          ],
          "name": "stderr"
        }
      ]
    },
    {
      "cell_type": "code",
      "metadata": {
        "id": "n1m4XmNYh6Vt",
        "colab_type": "code",
        "colab": {
          "base_uri": "https://localhost:8080/",
          "height": 34
        },
        "outputId": "7e591e83-5e60-472e-eaf0-6ff7d9ee2f94"
      },
      "source": [
        "from sklearn.naive_bayes import GaussianNB\n",
        "nb = GaussianNB()\n",
        "nb.fit(X,y)\n",
        "# preds = nb.predict(X)\n",
        "# print(preds)\n",
        "# print(classification_report(y, preds))\n"
      ],
      "execution_count": 24,
      "outputs": [
        {
          "output_type": "execute_result",
          "data": {
            "text/plain": [
              "GaussianNB(priors=None, var_smoothing=1e-09)"
            ]
          },
          "metadata": {
            "tags": []
          },
          "execution_count": 24
        }
      ]
    },
    {
      "cell_type": "code",
      "metadata": {
        "id": "RjQjhQsBjL1y",
        "colab_type": "code",
        "colab": {
          "base_uri": "https://localhost:8080/",
          "height": 136
        },
        "outputId": "c690e1cb-f6b8-4f1b-e183-db75f8188f79"
      },
      "source": [
        "from sklearn.ensemble import RandomForestClassifier\n",
        "rfc = RandomForestClassifier(n_estimators=45, max_depth=2, random_state=0)\n",
        "rfc.fit(X,y)\n",
        "# preds = rfc.predict(X)\n",
        "# print(preds)\n",
        "# print(classification_report(y, preds))\n"
      ],
      "execution_count": 25,
      "outputs": [
        {
          "output_type": "execute_result",
          "data": {
            "text/plain": [
              "RandomForestClassifier(bootstrap=True, class_weight=None, criterion='gini',\n",
              "                       max_depth=2, max_features='auto', max_leaf_nodes=None,\n",
              "                       min_impurity_decrease=0.0, min_impurity_split=None,\n",
              "                       min_samples_leaf=1, min_samples_split=2,\n",
              "                       min_weight_fraction_leaf=0.0, n_estimators=45,\n",
              "                       n_jobs=None, oob_score=False, random_state=0, verbose=0,\n",
              "                       warm_start=False)"
            ]
          },
          "metadata": {
            "tags": []
          },
          "execution_count": 25
        }
      ]
    },
    {
      "cell_type": "code",
      "metadata": {
        "id": "H_VrmH7Phdu3",
        "colab_type": "code",
        "colab": {
          "base_uri": "https://localhost:8080/",
          "height": 51
        },
        "outputId": "4139e1cd-4a8c-4431-9dd7-8558deb92ffe"
      },
      "source": [
        "abc = AdaBoostClassifier(n_estimators=25, learning_rate=0.1)\n",
        "abc.fit(X, y)"
      ],
      "execution_count": 26,
      "outputs": [
        {
          "output_type": "execute_result",
          "data": {
            "text/plain": [
              "AdaBoostClassifier(algorithm='SAMME.R', base_estimator=None, learning_rate=0.1,\n",
              "                   n_estimators=25, random_state=None)"
            ]
          },
          "metadata": {
            "tags": []
          },
          "execution_count": 26
        }
      ]
    },
    {
      "cell_type": "code",
      "metadata": {
        "id": "ccO5qLqqgWzN",
        "colab_type": "code",
        "colab": {
          "base_uri": "https://localhost:8080/",
          "height": 119
        },
        "outputId": "5c6e8f74-4861-4d7f-be11-13134abb8574"
      },
      "source": [
        "dtc = DecisionTreeClassifier(criterion=\"gini\", max_depth=3)\n",
        "dtc.fit(X, y)"
      ],
      "execution_count": 27,
      "outputs": [
        {
          "output_type": "execute_result",
          "data": {
            "text/plain": [
              "DecisionTreeClassifier(class_weight=None, criterion='gini', max_depth=3,\n",
              "                       max_features=None, max_leaf_nodes=None,\n",
              "                       min_impurity_decrease=0.0, min_impurity_split=None,\n",
              "                       min_samples_leaf=1, min_samples_split=2,\n",
              "                       min_weight_fraction_leaf=0.0, presort=False,\n",
              "                       random_state=None, splitter='best')"
            ]
          },
          "metadata": {
            "tags": []
          },
          "execution_count": 27
        }
      ]
    },
    {
      "cell_type": "markdown",
      "metadata": {
        "id": "y7ePszw4xYYp",
        "colab_type": "text"
      },
      "source": [
        "## Preparing Data for feeding to NBAME model\n",
        "\n",
        "> The data is fed as a list.\n",
        "\n",
        "> Each entry of the list of a dictionary of features (X) and the corresponding label\n"
      ]
    },
    {
      "cell_type": "code",
      "metadata": {
        "id": "PJbGG7g-xPvk",
        "colab_type": "code",
        "colab": {
          "base_uri": "https://localhost:8080/",
          "height": 207
        },
        "outputId": "19bcd309-6859-43c3-c806-b08b470827ea"
      },
      "source": [
        "Y = team1_vs_team2['winner']\n",
        "\n",
        "print('Y')\n",
        "print(Y.head(5))\n",
        "\n",
        "train_data = []\n",
        "\n",
        "for index, row in X.iterrows():\n",
        "  d = dict(row)\n",
        "  train_data.append([d, y[index]])\n",
        "\n",
        "print('\\nTrain data for NBAME model')\n",
        "print(train_data[:3])"
      ],
      "execution_count": 28,
      "outputs": [
        {
          "output_type": "stream",
          "text": [
            "Y\n",
            "0    2\n",
            "1    2\n",
            "2    2\n",
            "3    1\n",
            "4    2\n",
            "Name: winner, dtype: int64\n",
            "\n",
            "Train data for NBAME model\n",
            "[[{0: 0.6471458807414748, 1: 1.5477544013119335, 2: 0.45838471335291026, 3: 0.32018910660240774, 4: 0.2718598005012266, 5: -0.25527904926197775, 6: 0.2404897736327323, 7: 0.021069008971138944}, 2], [{0: 1.1197713500705095, 1: 1.568313884763953, 2: -0.07707489927387205, 3: 0.4797642026770912, 4: 0.4101594661048585, 5: -0.32906592422533154, 6: 0.12369789955988696, 7: 0.14343881925616114}, 2], [{0: 1.7698375436374598, 1: 1.1649098789441412, 2: 0.5207094009673303, 3: 0.175373864307707, 4: 0.5169059888330668, 5: -0.6682566678752202, 6: 0.3871575667302233, 7: -0.024243354439690085}, 2]]\n"
          ],
          "name": "stdout"
        }
      ]
    },
    {
      "cell_type": "markdown",
      "metadata": {
        "id": "B9yU4BhN9BXi",
        "colab_type": "text"
      },
      "source": [
        "## Building the NBAME Classifier"
      ]
    },
    {
      "cell_type": "code",
      "metadata": {
        "id": "aIfb71F-8_U6",
        "colab_type": "code",
        "colab": {}
      },
      "source": [
        "nbame_classifier = maxent.MaxentClassifier.train(train_data, algorithm='GIS', trace=0, max_iter=1000)"
      ],
      "execution_count": 0,
      "outputs": []
    },
    {
      "cell_type": "code",
      "metadata": {
        "id": "7GRjK5YCjkoL",
        "colab_type": "code",
        "colab": {
          "base_uri": "https://localhost:8080/",
          "height": 119
        },
        "outputId": "a3eccb47-db71-4bdf-a144-d228619f1eb9"
      },
      "source": [
        "#Test data\n",
        "playoff_matches_df.columns = season_matches_df.columns\n",
        "\n",
        "team1_vs_team2_test = playoff_matches_df[['Visitor/Neutral', 'Home/Neutral' ]] \n",
        "team1_vs_team2_test.columns = ['team1','team2']\n",
        "team1_vs_team2_test['winner'] = playoff_matches_df.apply (lambda row: add_winner(row), axis=1)\n"
      ],
      "execution_count": 30,
      "outputs": [
        {
          "output_type": "stream",
          "text": [
            "/usr/local/lib/python3.6/dist-packages/ipykernel_launcher.py:5: SettingWithCopyWarning: \n",
            "A value is trying to be set on a copy of a slice from a DataFrame.\n",
            "Try using .loc[row_indexer,col_indexer] = value instead\n",
            "\n",
            "See the caveats in the documentation: http://pandas.pydata.org/pandas-docs/stable/user_guide/indexing.html#returning-a-view-versus-a-copy\n",
            "  \"\"\"\n"
          ],
          "name": "stderr"
        }
      ]
    },
    {
      "cell_type": "code",
      "metadata": {
        "id": "sYgVgujfs6WS",
        "colab_type": "code",
        "colab": {}
      },
      "source": [
        "res = defaultdict(int)\n",
        "def convert_to_dict(row):\n",
        "    res[(row['team1'], row['team2'])] += 1 if row['winner'] == 1 else -1\n",
        "\n",
        "team1_vs_team2_test.apply(lambda row: convert_to_dict(row), axis = 1)\n",
        "final_res = defaultdict()\n",
        "removedkeys=set()\n",
        "for key, value in res.items():\n",
        "  if key not in removedkeys:\n",
        "    final_res[(key[0], key[1])] = value - res[(key[1], key[0])]\n",
        "    removedkeys.add((key[1], key[0]))\n",
        "  "
      ],
      "execution_count": 0,
      "outputs": []
    },
    {
      "cell_type": "code",
      "metadata": {
        "id": "yQb6QRYdurWR",
        "colab_type": "code",
        "colab": {}
      },
      "source": [
        "team1_vs_team2_res = pd.DataFrame(columns = team1_vs_team2_test.columns)\n",
        "for key, value in final_res.items():\n",
        "  team1_vs_team2_res = team1_vs_team2_res.append({'team1': key[0], 'team2': key[1], 'winner': 1 if value > 0 else 2}, ignore_index=True)"
      ],
      "execution_count": 0,
      "outputs": []
    },
    {
      "cell_type": "code",
      "metadata": {
        "id": "QtM1FH2Gq-Ro",
        "colab_type": "code",
        "colab": {}
      },
      "source": [
        "for columnname in nba_df_per_minute.columns[3:]:\n",
        "  team1_vs_team2_res[columnname] = team1_vs_team2_res.apply(lambda row: create_column(columnname, row), axis=1)"
      ],
      "execution_count": 0,
      "outputs": []
    },
    {
      "cell_type": "code",
      "metadata": {
        "id": "pVOpnba2AqW0",
        "colab_type": "code",
        "colab": {}
      },
      "source": [
        "team1_vs_team2_res['winner'] = pd.to_numeric(team1_vs_team2_res['winner'])\n",
        "X_test = team1_vs_team2_res.loc[:,'FG':]\n",
        "\n",
        "X_test=(X_test-X_test.min())/(X_test.max()-X_test.min())\n",
        "y_test = team1_vs_team2_res['winner']\n",
        "\n",
        "X_test = X_test.dot(eigen_vectors[:,:8])"
      ],
      "execution_count": 0,
      "outputs": []
    },
    {
      "cell_type": "code",
      "metadata": {
        "id": "jTY-DwRmeJEH",
        "colab_type": "code",
        "colab": {
          "base_uri": "https://localhost:8080/",
          "height": 187
        },
        "outputId": "e66f4068-dc97-4487-cb45-c17e73dee86e"
      },
      "source": [
        "preds_test=clf.predict(X_test)\n",
        "print(preds_test)\n",
        "print(classification_report(y_test, preds_test))"
      ],
      "execution_count": 35,
      "outputs": [
        {
          "output_type": "stream",
          "text": [
            "[2 1 1 2 1 2 2 2 2 2 1 2 2 2 2]\n",
            "              precision    recall  f1-score   support\n",
            "\n",
            "           1       0.50      0.50      0.50         4\n",
            "           2       0.82      0.82      0.82        11\n",
            "\n",
            "    accuracy                           0.73        15\n",
            "   macro avg       0.66      0.66      0.66        15\n",
            "weighted avg       0.73      0.73      0.73        15\n",
            "\n"
          ],
          "name": "stdout"
        }
      ]
    },
    {
      "cell_type": "code",
      "metadata": {
        "id": "w9vZfgNJqe90",
        "colab_type": "code",
        "colab": {
          "base_uri": "https://localhost:8080/",
          "height": 187
        },
        "outputId": "7725067d-a3be-4d34-ca37-4828d4701ee9"
      },
      "source": [
        "preds_test=rfc.predict(X_test)\n",
        "print(preds_test)\n",
        "print(classification_report(y_test, preds_test))"
      ],
      "execution_count": 36,
      "outputs": [
        {
          "output_type": "stream",
          "text": [
            "[2 1 1 2 1 2 2 2 2 2 2 1 2 2 2]\n",
            "              precision    recall  f1-score   support\n",
            "\n",
            "           1       0.50      0.50      0.50         4\n",
            "           2       0.82      0.82      0.82        11\n",
            "\n",
            "    accuracy                           0.73        15\n",
            "   macro avg       0.66      0.66      0.66        15\n",
            "weighted avg       0.73      0.73      0.73        15\n",
            "\n"
          ],
          "name": "stdout"
        }
      ]
    },
    {
      "cell_type": "code",
      "metadata": {
        "id": "zm5vBh8BeOAw",
        "colab_type": "code",
        "colab": {
          "base_uri": "https://localhost:8080/",
          "height": 187
        },
        "outputId": "531ef820-ab5b-48ce-9322-735e75f4fa6a"
      },
      "source": [
        "preds_test=nb.predict(X_test)\n",
        "print(preds_test)\n",
        "print(classification_report(y_test, preds_test))"
      ],
      "execution_count": 37,
      "outputs": [
        {
          "output_type": "stream",
          "text": [
            "[2 1 1 2 1 2 2 2 2 2 1 1 2 2 2]\n",
            "              precision    recall  f1-score   support\n",
            "\n",
            "           1       0.40      0.50      0.44         4\n",
            "           2       0.80      0.73      0.76        11\n",
            "\n",
            "    accuracy                           0.67        15\n",
            "   macro avg       0.60      0.61      0.60        15\n",
            "weighted avg       0.69      0.67      0.68        15\n",
            "\n"
          ],
          "name": "stdout"
        }
      ]
    },
    {
      "cell_type": "code",
      "metadata": {
        "id": "K3EBlLJ8eRKq",
        "colab_type": "code",
        "colab": {
          "base_uri": "https://localhost:8080/",
          "height": 187
        },
        "outputId": "47324eb2-bdef-431f-e37e-aa51fe741105"
      },
      "source": [
        "preds_test=dtc.predict(X_test)\n",
        "print(preds_test)\n",
        "print(classification_report(y_test, preds_test))"
      ],
      "execution_count": 38,
      "outputs": [
        {
          "output_type": "stream",
          "text": [
            "[2 2 2 2 1 2 2 2 1 2 2 1 2 2 2]\n",
            "              precision    recall  f1-score   support\n",
            "\n",
            "           1       0.33      0.25      0.29         4\n",
            "           2       0.75      0.82      0.78        11\n",
            "\n",
            "    accuracy                           0.67        15\n",
            "   macro avg       0.54      0.53      0.53        15\n",
            "weighted avg       0.64      0.67      0.65        15\n",
            "\n"
          ],
          "name": "stdout"
        }
      ]
    },
    {
      "cell_type": "code",
      "metadata": {
        "id": "cAGHdvXCghMQ",
        "colab_type": "code",
        "colab": {
          "base_uri": "https://localhost:8080/",
          "height": 187
        },
        "outputId": "a24f545c-42e0-4b12-a28c-18ab97745e35"
      },
      "source": [
        "preds_test=abc.predict(X_test)\n",
        "print(preds_test)\n",
        "print(classification_report(y_test, preds_test))"
      ],
      "execution_count": 39,
      "outputs": [
        {
          "output_type": "stream",
          "text": [
            "[2 1 2 2 1 2 2 2 2 2 2 2 2 2 1]\n",
            "              precision    recall  f1-score   support\n",
            "\n",
            "           1       0.67      0.50      0.57         4\n",
            "           2       0.83      0.91      0.87        11\n",
            "\n",
            "    accuracy                           0.80        15\n",
            "   macro avg       0.75      0.70      0.72        15\n",
            "weighted avg       0.79      0.80      0.79        15\n",
            "\n"
          ],
          "name": "stdout"
        }
      ]
    },
    {
      "cell_type": "markdown",
      "metadata": {
        "id": "YPoKBZgG-ir1",
        "colab_type": "text"
      },
      "source": [
        "## Results of the NBAME Model"
      ]
    },
    {
      "cell_type": "code",
      "metadata": {
        "id": "5bP86q89-n48",
        "colab_type": "code",
        "colab": {
          "base_uri": "https://localhost:8080/",
          "height": 258
        },
        "outputId": "80316a02-76b3-49a6-ad9b-ed8affa43057"
      },
      "source": [
        "# Prepare the test data for prediction\n",
        "X_test_list = []\n",
        "for index, row in X_test.iterrows():\n",
        "  d = dict(row)\n",
        "  X_test_list.append(d)\n",
        "\n",
        "print(len(X_test_list))\n",
        "\n",
        "y_predicted = []\n",
        "for featureset in X_test_list:\n",
        "  pdist = nbame_classifier.prob_classify(featureset)\n",
        "  if pdist.prob(1) > 0.5:\n",
        "    y_predicted.append(1)\n",
        "  else:\n",
        "    y_predicted.append(2)\n",
        "\n",
        "print(y_predicted)\n",
        "print(classification_report(y_test, y_predicted))"
      ],
      "execution_count": 40,
      "outputs": [
        {
          "output_type": "stream",
          "text": [
            "15\n",
            "[2, 2, 2, 2, 2, 2, 2, 2, 2, 2, 2, 2, 2, 2, 2]\n",
            "              precision    recall  f1-score   support\n",
            "\n",
            "           1       0.00      0.00      0.00         4\n",
            "           2       0.73      1.00      0.85        11\n",
            "\n",
            "    accuracy                           0.73        15\n",
            "   macro avg       0.37      0.50      0.42        15\n",
            "weighted avg       0.54      0.73      0.62        15\n",
            "\n"
          ],
          "name": "stdout"
        },
        {
          "output_type": "stream",
          "text": [
            "/usr/local/lib/python3.6/dist-packages/sklearn/metrics/classification.py:1437: UndefinedMetricWarning: Precision and F-score are ill-defined and being set to 0.0 in labels with no predicted samples.\n",
            "  'precision', 'predicted', average, warn_for)\n"
          ],
          "name": "stderr"
        }
      ]
    },
    {
      "cell_type": "markdown",
      "metadata": {
        "id": "WmDteNH--ioe",
        "colab_type": "text"
      },
      "source": [
        ""
      ]
    },
    {
      "cell_type": "code",
      "metadata": {
        "id": "lVmAF2CS5CoG",
        "colab_type": "code",
        "colab": {
          "base_uri": "https://localhost:8080/",
          "height": 85
        },
        "outputId": "131c9270-beea-4aa6-fe8e-44556aa753e7"
      },
      "source": [
        "\n",
        "transformed = team1_vs_team2[['team1','team2','winner']]\n",
        "transformed.loc[0,:]\n",
        "\n"
      ],
      "execution_count": 41,
      "outputs": [
        {
          "output_type": "execute_result",
          "data": {
            "text/plain": [
              "team1     Houston Rockets\n",
              "team2     Detroit Pistons\n",
              "winner                  2\n",
              "Name: 0, dtype: object"
            ]
          },
          "metadata": {
            "tags": []
          },
          "execution_count": 41
        }
      ]
    },
    {
      "cell_type": "code",
      "metadata": {
        "id": "wuTnADxchttl",
        "colab_type": "code",
        "colab": {
          "base_uri": "https://localhost:8080/",
          "height": 34
        },
        "outputId": "afcba35c-62a3-4d89-af4a-4a0c9be6c56d"
      },
      "source": [
        "from sklearn.model_selection import train_test_split\n",
        "from pyspark.mllib.recommendation import ALS, MatrixFactorizationModel\n",
        "\n",
        "transformed = team1_vs_team2[['team1','team2','winner']]\n",
        "t = list()\n",
        "\n",
        "for ind, row in transformed.iterrows():\n",
        "  t.append((nba_df_per_minute.loc[nba_df_per_minute['Team']==row[0]].index[0],\\\n",
        "            nba_df_per_minute.loc[nba_df_per_minute['Team']==row[1]].index[0],float(row[2])))\n",
        "  \n",
        "t_1 = sc.parallelize(t)\n",
        "t_2 = t_1.collect()\n",
        "t_1\n"
      ],
      "execution_count": 42,
      "outputs": [
        {
          "output_type": "execute_result",
          "data": {
            "text/plain": [
              "ParallelCollectionRDD[0] at parallelize at PythonRDD.scala:195"
            ]
          },
          "metadata": {
            "tags": []
          },
          "execution_count": 42
        }
      ]
    },
    {
      "cell_type": "code",
      "metadata": {
        "id": "Rqsv6ui0_j-M",
        "colab_type": "code",
        "colab": {
          "base_uri": "https://localhost:8080/",
          "height": 54
        },
        "outputId": "e44065e9-97ef-4afe-dea4-9974daabba91"
      },
      "source": [
        "from pyspark.ml.evaluation import RegressionEvaluator\n",
        "\n",
        "seed = 0\n",
        "# trainData, validationData, testData = t_1.randomSplit([0.80, 0.20],0)\n",
        "rank = 2\n",
        "numIterations = 10\n",
        "model = ALS.train(t_1, rank , numIterations)\n",
        "\n",
        "predictions = t_1.map(lambda x:(x[0],x[1]))\n",
        "test1 = model.predictAll(predictions)\n",
        "print(test1.collect())\n",
        "\n"
      ],
      "execution_count": 43,
      "outputs": [
        {
          "output_type": "stream",
          "text": [
            "[Rating(user=19, product=13, rating=1.4446138817754157), Rating(user=19, product=15, rating=1.5359300384885763), Rating(user=19, product=15, rating=1.5359300384885763), Rating(user=19, product=4, rating=1.1686267387214855), Rating(user=19, product=21, rating=1.1677906565519276), Rating(user=19, product=16, rating=1.337267390479635), Rating(user=19, product=22, rating=1.5606968560782466), Rating(user=19, product=22, rating=1.5606968560782466), Rating(user=19, product=25, rating=1.552713248685329), Rating(user=19, product=25, rating=1.552713248685329), Rating(user=19, product=28, rating=1.34373234024536), Rating(user=19, product=29, rating=1.0082180328571262), Rating(user=19, product=29, rating=1.0082180328571262), Rating(user=19, product=11, rating=1.0466648248598034), Rating(user=19, product=11, rating=1.0466648248598034), Rating(user=19, product=14, rating=1.423265256641093), Rating(user=19, product=27, rating=1.1277114088072677), Rating(user=19, product=0, rating=1.3688457000251475), Rating(user=19, product=0, rating=1.3688457000251475), Rating(user=19, product=24, rating=1.1869164194869697), Rating(user=19, product=23, rating=1.8570201586214221), Rating(user=19, product=1, rating=1.4539474542301463), Rating(user=19, product=1, rating=1.4539474542301463), Rating(user=19, product=6, rating=1.6264955751669987), Rating(user=19, product=17, rating=1.684675825570583), Rating(user=19, product=17, rating=1.684675825570583), Rating(user=19, product=3, rating=1.7241284249126911), Rating(user=19, product=7, rating=1.2921162071834544), Rating(user=19, product=9, rating=1.0410878475528307), Rating(user=19, product=8, rating=1.4623176297739047), Rating(user=19, product=12, rating=1.076900088462473), Rating(user=19, product=12, rating=1.076900088462473), Rating(user=19, product=18, rating=1.0813958929299616), Rating(user=19, product=20, rating=1.0937052107830496), Rating(user=19, product=26, rating=1.3103971456096453), Rating(user=19, product=26, rating=1.3103971456096453), Rating(user=19, product=10, rating=1.3218111359842553), Rating(user=19, product=10, rating=1.3218111359842553), Rating(user=19, product=5, rating=1.5931417871416729), Rating(user=19, product=2, rating=1.3164124660328156), Rating(user=19, product=2, rating=1.3164124660328156), Rating(user=13, product=19, rating=1.7292733352662495), Rating(user=13, product=15, rating=1.687490300172744), Rating(user=13, product=4, rating=1.7414999134306086), Rating(user=13, product=4, rating=1.7414999134306086), Rating(user=13, product=21, rating=1.4069990445423723), Rating(user=13, product=21, rating=1.4069990445423723), Rating(user=13, product=16, rating=1.7865885436858342), Rating(user=13, product=16, rating=1.7865885436858342), Rating(user=13, product=22, rating=1.7241430817241596), Rating(user=13, product=25, rating=1.4754518984367948), Rating(user=13, product=28, rating=1.6810876404277124), Rating(user=13, product=28, rating=1.6810876404277124), Rating(user=13, product=29, rating=1.3820633744605963), Rating(user=13, product=11, rating=1.711256010518639), Rating(user=13, product=14, rating=1.653849763898867), Rating(user=13, product=27, rating=1.2830788264291142), Rating(user=13, product=27, rating=1.2830788264291142), Rating(user=13, product=0, rating=1.8717638519557767), Rating(user=13, product=24, rating=1.684439444990815), Rating(user=13, product=24, rating=1.684439444990815), Rating(user=13, product=23, rating=1.88091936766814), Rating(user=13, product=23, rating=1.88091936766814), Rating(user=13, product=1, rating=1.864794603114575), Rating(user=13, product=6, rating=1.6109909285843003), Rating(user=13, product=6, rating=1.6109909285843003), Rating(user=13, product=17, rating=2.0316811757701636), Rating(user=13, product=3, rating=1.9253604228786534), Rating(user=13, product=3, rating=1.9253604228786534), Rating(user=13, product=7, rating=1.8982664212121705), Rating(user=13, product=9, rating=1.6775725142574416), Rating(user=13, product=9, rating=1.6775725142574416), Rating(user=13, product=8, rating=1.6578824569641295), Rating(user=13, product=8, rating=1.6578824569641295), Rating(user=13, product=12, rating=1.6152694975643982), Rating(user=13, product=18, rating=1.8154361552364051), Rating(user=13, product=20, rating=1.7534774208591415), Rating(user=13, product=20, rating=1.7534774208591415), Rating(user=13, product=26, rating=1.5430718860586445), Rating(user=13, product=10, rating=1.7632100795200003), Rating(user=13, product=5, rating=1.8020248523153528), Rating(user=13, product=2, rating=1.8456668118439126), Rating(user=21, product=13, rating=1.7235581585460267), Rating(user=21, product=13, rating=1.7235581585460267), Rating(user=21, product=19, rating=1.8720967933097086), Rating(user=21, product=15, rating=1.7795144029192187), Rating(user=21, product=4, rating=1.9428446785578544), Rating(user=21, product=4, rating=1.9428446785578544), Rating(user=21, product=16, rating=1.9577993313020556), Rating(user=21, product=16, rating=1.9577993313020556), Rating(user=21, product=22, rating=1.8203611158848219), Rating(user=21, product=25, rating=1.5023301828954914), Rating(user=21, product=28, rating=1.820366398249874), Rating(user=21, product=28, rating=1.820366398249874), Rating(user=21, product=29, rating=1.5212157940362374), Rating(user=21, product=11, rating=1.9350724897825415), Rating(user=21, product=14, rating=1.7649959525923151), Rating(user=21, product=14, rating=1.7649959525923151), Rating(user=21, product=27, rating=1.3632991039580418), Rating(user=21, product=27, rating=1.3632991039580418), Rating(user=21, product=0, rating=2.0593556004157847), Rating(user=21, product=24, rating=1.8647351350197212), Rating(user=21, product=24, rating=1.8647351350197212), Rating(user=21, product=23, rating=1.9464463482878358), Rating(user=21, product=1, rating=2.0286488263934785), Rating(user=21, product=6, rating=1.6579254805439376), Rating(user=21, product=17, rating=2.1845008520858897), Rating(user=21, product=3, rating=2.037586845820883), Rating(user=21, product=3, rating=2.037586845820883), Rating(user=21, product=7, rating=2.1130636240441873), Rating(user=21, product=9, rating=1.8931457130411147), Rating(user=21, product=9, rating=1.8931457130411147), Rating(user=21, product=8, rating=1.7602111020645737), Rating(user=21, product=8, rating=1.7602111020645737), Rating(user=21, product=12, rating=1.8038131910754558), Rating(user=21, product=18, rating=2.060283037881028), Rating(user=21, product=20, rating=1.9773968770803876), Rating(user=21, product=20, rating=1.9773968770803876), Rating(user=21, product=26, rating=1.651252251559015), Rating(user=21, product=10, rating=1.9316587483060914), Rating(user=21, product=5, rating=1.9123091091285147), Rating(user=21, product=5, rating=1.9123091091285147), Rating(user=21, product=2, rating=2.0391610509933287), Rating(user=4, product=13, rating=1.4810726313820446), Rating(user=4, product=13, rating=1.4810726313820446), Rating(user=4, product=19, rating=1.5544981770702435), Rating(user=4, product=15, rating=1.5421649154545989), Rating(user=4, product=21, rating=1.2704730661567645), Rating(user=4, product=21, rating=1.2704730661567645), Rating(user=4, product=16, rating=1.593418205265003), Rating(user=4, product=16, rating=1.593418205265003), Rating(user=4, product=22, rating=1.5744916355586192), Rating(user=4, product=25, rating=1.3769354896809176), Rating(user=4, product=28, rating=1.5109507587664552), Rating(user=4, product=28, rating=1.5109507587664552), Rating(user=4, product=29, rating=1.2290574692812228), Rating(user=4, product=11, rating=1.4943566377576332), Rating(user=4, product=14, rating=1.5002559810175846), Rating(user=4, product=14, rating=1.5002559810175846), Rating(user=4, product=27, rating=1.1671199460816535), Rating(user=4, product=27, rating=1.1671199460816535), Rating(user=4, product=0, rating=1.665005398012397), Rating(user=4, product=24, rating=1.4922578364006753), Rating(user=4, product=23, rating=1.738673485398376), Rating(user=4, product=23, rating=1.738673485398376), Rating(user=4, product=1, rating=1.671080988767514), Rating(user=4, product=6, rating=1.4940542538368078), Rating(user=4, product=6, rating=1.4940542538368078), Rating(user=4, product=17, rating=1.8343233745674397), Rating(user=4, product=3, rating=1.755697485886861), Rating(user=4, product=3, rating=1.755697485886861), Rating(user=4, product=7, rating=1.6755007869420098), Rating(user=4, product=9, rating=1.4669872195118145), Rating(user=4, product=9, rating=1.4669872195118145), Rating(user=4, product=8, rating=1.5087564596206668), Rating(user=4, product=12, rating=1.4226405729821963), Rating(user=4, product=18, rating=1.5813869840469366), Rating(user=4, product=20, rating=1.534113840014136), Rating(user=4, product=20, rating=1.534113840014136), Rating(user=4, product=26, rating=1.3973797496081843), Rating(user=4, product=10, rating=1.5728454534581289), Rating(user=4, product=5, rating=1.6404347645629844), Rating(user=4, product=5, rating=1.6404347645629844), Rating(user=4, product=2, rating=1.63725277722898), Rating(user=15, product=13, rating=1.5339457497358326), Rating(user=15, product=19, rating=1.508432666831066), Rating(user=15, product=4, rating=1.337384996557816), Rating(user=15, product=21, rating=1.2609834974573113), Rating(user=15, product=16, rating=1.4836926778589703), Rating(user=15, product=22, rating=1.64987291371322), Rating(user=15, product=22, rating=1.64987291371322), Rating(user=15, product=25, rating=1.5871292795106378), Rating(user=15, product=25, rating=1.5871292795106378), Rating(user=15, product=28, rating=1.4650261040949069), Rating(user=15, product=29, rating=1.126556475054267), Rating(user=15, product=29, rating=1.126556475054267), Rating(user=15, product=11, rating=1.2321097024118401), Rating(user=15, product=11, rating=1.2321097024118401), Rating(user=15, product=14, rating=1.5230462459384002), Rating(user=15, product=27, rating=1.200583875180444), Rating(user=15, product=0, rating=1.5284603258109755), Rating(user=15, product=0, rating=1.5284603258109755), Rating(user=15, product=24, rating=1.3392277830947172), Rating(user=15, product=23, rating=1.9245105979789523), Rating(user=15, product=1, rating=1.5955633166396481), Rating(user=15, product=1, rating=1.5955633166396481), Rating(user=15, product=6, rating=1.6773590731343333), Rating(user=15, product=17, rating=1.8195519380997265), Rating(user=15, product=17, rating=1.8195519380997265), Rating(user=15, product=3, rating=1.8273221989741875), Rating(user=15, product=7, rating=1.4725362019546964), Rating(user=15, product=7, rating=1.4725362019546964), Rating(user=15, product=9, rating=1.2199833287644708), Rating(user=15, product=8, rating=1.5554761247784947), Rating(user=15, product=12, rating=1.234780721344496), Rating(user=15, product=18, rating=1.2837242141900376), Rating(user=15, product=18, rating=1.2837242141900376), Rating(user=15, product=20, rating=1.2796316879979592), Rating(user=15, product=26, rating=1.406878169658098), Rating(user=15, product=26, rating=1.406878169658098), Rating(user=15, product=10, rating=1.4659262350437565), Rating(user=15, product=10, rating=1.4659262350437565), Rating(user=15, product=5, rating=1.693688797911244), Rating(user=15, product=2, rating=1.4802364346255175), Rating(user=15, product=2, rating=1.4802364346255175), Rating(user=16, product=13, rating=1.5737290304167466), Rating(user=16, product=13, rating=1.5737290304167466), Rating(user=16, product=19, rating=1.6957147029441302), Rating(user=16, product=15, rating=1.628093896223767), Rating(user=16, product=4, rating=1.7400726044103365), Rating(user=16, product=21, rating=1.3736971695320825), Rating(user=16, product=21, rating=1.3736971695320825), Rating(user=16, product=22, rating=1.6646920389122464), Rating(user=16, product=25, rating=1.3933614427831031), Rating(user=16, product=28, rating=1.6487089549842153), Rating(user=16, product=28, rating=1.6487089549842153), Rating(user=16, product=29, rating=1.369316404678365), Rating(user=16, product=11, rating=1.7244690042126507), Rating(user=16, product=14, rating=1.6074322318019263), Rating(user=16, product=14, rating=1.6074322318019263), Rating(user=16, product=27, rating=1.2436858226363672), Rating(user=16, product=27, rating=1.2436858226363672), Rating(user=16, product=0, rating=1.8540129360704327), Rating(user=16, product=24, rating=1.6749250402034832), Rating(user=16, product=24, rating=1.6749250402034832), Rating(user=16, product=23, rating=1.7938647507519399), Rating(user=16, product=23, rating=1.7938647507519399), Rating(user=16, product=1, rating=1.8341429498407962), Rating(user=16, product=6, rating=1.5312578152144027), Rating(user=16, product=6, rating=1.5312578152144027), Rating(user=16, product=17, rating=1.9838228444618622), Rating(user=16, product=3, rating=1.86166092837008), Rating(user=16, product=3, rating=1.86166092837008), Rating(user=16, product=7, rating=1.894081003320295), Rating(user=16, product=9, rating=1.688365446573279), Rating(user=16, product=9, rating=1.688365446573279), Rating(user=16, product=8, rating=1.6062365230747169), Rating(user=16, product=8, rating=1.6062365230747169), Rating(user=16, product=12, rating=1.614954864424341), Rating(user=16, product=18, rating=1.8336210027052502), Rating(user=16, product=20, rating=1.763966387400437), Rating(user=16, product=20, rating=1.763966387400437), Rating(user=16, product=26, rating=1.50228432663166), Rating(user=16, product=10, rating=1.7418377125593878), Rating(user=16, product=5, rating=1.745358895804058), Rating(user=16, product=2, rating=1.8329574770388604), Rating(user=22, product=13, rating=1.405817849462668), Rating(user=22, product=19, rating=1.5182536773399846), Rating(user=22, product=19, rating=1.5182536773399846), Rating(user=22, product=15, rating=1.4535506468891768), Rating(user=22, product=15, rating=1.4535506468891768), Rating(user=22, product=4, rating=1.5630210152326853), Rating(user=22, product=21, rating=1.2290001507684742), Rating(user=22, product=16, rating=1.5825719622642467), Rating(user=22, product=25, rating=1.2391996294750953), Rating(user=22, product=25, rating=1.2391996294750953), Rating(user=22, product=28, rating=1.4762054169706005), Rating(user=22, product=29, rating=1.2282102269721875), Rating(user=22, product=29, rating=1.2282102269721875), Rating(user=22, product=11, rating=1.5512436157473672), Rating(user=22, product=14, rating=1.4369749444419746), Rating(user=22, product=27, rating=1.1112689136673115), Rating(user=22, product=0, rating=1.6628841660973421), Rating(user=22, product=0, rating=1.6628841660973421), Rating(user=22, product=24, rating=1.5032563872609543), Rating(user=22, product=23, rating=1.5982424868372682), Rating(user=22, product=1, rating=1.6430591642587586), Rating(user=22, product=1, rating=1.6430591642587586), Rating(user=22, product=6, rating=1.3634431786746433), Rating(user=22, product=17, rating=1.7748947382217253), Rating(user=22, product=17, rating=1.7748947382217253), Rating(user=22, product=3, rating=1.662723130416369), Rating(user=22, product=7, rating=1.7009563715497649), Rating(user=22, product=7, rating=1.7009563715497649), Rating(user=22, product=9, rating=1.5184386888217247), Rating(user=22, product=8, rating=1.4351006122731214), Rating(user=22, product=12, rating=1.4507885219185468), Rating(user=22, product=12, rating=1.4507885219185468), Rating(user=22, product=18, rating=1.6500640252159045), Rating(user=22, product=18, rating=1.6500640252159045), Rating(user=22, product=20, rating=1.58631024089852), Rating(user=22, product=26, rating=1.3433741823743546), Rating(user=22, product=26, rating=1.3433741823743546), Rating(user=22, product=10, rating=1.5615544247288398), Rating(user=22, product=5, rating=1.5593165648113594), Rating(user=22, product=2, rating=1.644739993059261), Rating(user=22, product=2, rating=1.644739993059261), Rating(user=25, product=13, rating=1.754196014139751), Rating(user=25, product=19, rating=1.7948110763304612), Rating(user=25, product=19, rating=1.7948110763304612), Rating(user=25, product=15, rating=1.8376757209273507), Rating(user=25, product=15, rating=1.8376757209273507), Rating(user=25, product=4, rating=1.7027607812672088), Rating(user=25, product=21, rating=1.4797295403682824), Rating(user=25, product=16, rating=1.8112204546712576), Rating(user=25, product=22, rating=1.8735927707119089), Rating(user=25, product=28, rating=1.7440069059792478), Rating(user=25, product=29, rating=1.3889018874123735), Rating(user=25, product=29, rating=1.3889018874123735), Rating(user=25, product=11, rating=1.6258958802989554), Rating(user=25, product=11, rating=1.6258958802989554), Rating(user=25, product=14, rating=1.7628749098051912), Rating(user=25, product=27, rating=1.3786045754851202), Rating(user=25, product=0, rating=1.882602480017141), Rating(user=25, product=0, rating=1.882602480017141), Rating(user=25, product=24, rating=1.6732896451203843), Rating(user=25, product=23, rating=2.115787142670314), Rating(user=25, product=1, rating=1.9175517258778), Rating(user=25, product=6, rating=1.8288876849247657), Rating(user=25, product=17, rating=2.135961768714182), Rating(user=25, product=17, rating=2.135961768714182), Rating(user=25, product=3, rating=2.083547847963878), Rating(user=25, product=7, rating=1.8645491657885174), Rating(user=25, product=7, rating=1.8645491657885174), Rating(user=25, product=9, rating=1.6008819743017497), Rating(user=25, product=8, rating=1.7837255792815796), Rating(user=25, product=12, rating=1.5760726300921775), Rating(user=25, product=12, rating=1.5760726300921775), Rating(user=25, product=18, rating=1.711394053126078), Rating(user=25, product=18, rating=1.711394053126078), Rating(user=25, product=20, rating=1.6758806854525616), Rating(user=25, product=26, rating=1.6366372375253775), Rating(user=25, product=26, rating=1.6366372375253775), Rating(user=25, product=10, rating=1.7884698542464719), Rating(user=25, product=10, rating=1.7884698542464719), Rating(user=25, product=5, rating=1.9405233876016368), Rating(user=25, product=2, rating=1.8408413199495897), Rating(user=25, product=2, rating=1.8408413199495897), Rating(user=28, product=13, rating=1.544317824570193), Rating(user=28, product=13, rating=1.544317824570193), Rating(user=28, product=19, rating=1.5812639837766653), Rating(user=28, product=15, rating=1.6175240936722304), Rating(user=28, product=4, rating=1.5019932746913724), Rating(user=28, product=4, rating=1.5019932746913724), Rating(user=28, product=21, rating=1.3033323414094369), Rating(user=28, product=21, rating=1.3033323414094369), Rating(user=28, product=16, rating=1.5964725581976182), Rating(user=28, product=16, rating=1.5964725581976182), Rating(user=28, product=22, rating=1.6492047957602765), Rating(user=28, product=25, rating=1.4985489931353015), Rating(user=28, product=29, rating=1.22444452484838), Rating(user=28, product=11, rating=1.4350671847043657), Rating(user=28, product=14, rating=1.552318987626883), Rating(user=28, product=14, rating=1.552318987626883), Rating(user=28, product=27, rating=1.213759599730711), Rating(user=28, product=27, rating=1.213759599730711), Rating(user=28, product=0, rating=1.659658505185348), Rating(user=28, product=24, rating=1.4755095370704367), Rating(user=28, product=24, rating=1.4755095370704367), Rating(user=28, product=23, rating=1.8611961816261058), Rating(user=28, product=1, rating=1.689713514509691), Rating(user=28, product=6, rating=1.6085497077540083), Rating(user=28, product=6, rating=1.6085497077540083), Rating(user=28, product=17, rating=1.881348486279947), Rating(user=28, product=3, rating=1.8341599651507074), Rating(user=28, product=7, rating=1.6445480760094995), Rating(user=28, product=9, rating=1.4128559077383471), Rating(user=28, product=9, rating=1.4128559077383471), Rating(user=28, product=8, rating=1.5703980799339448), Rating(user=28, product=8, rating=1.5703980799339448), Rating(user=28, product=12, rating=1.3903030318956127), Rating(user=28, product=18, rating=1.5107875964364865), Rating(user=28, product=20, rating=1.47899725363105), Rating(user=28, product=20, rating=1.47899725363105), Rating(user=28, product=26, rating=1.4412975863187256), Rating(user=28, product=10, rating=1.576402417227058), Rating(user=28, product=5, rating=1.7084145543116982), Rating(user=28, product=5, rating=1.7084145543116982), Rating(user=28, product=2, rating=1.6231221368551587), Rating(user=29, product=13, rating=1.650730529406344), Rating(user=29, product=19, rating=1.7824130775367237), Rating(user=29, product=19, rating=1.7824130775367237), Rating(user=29, product=15, rating=1.7068608851255114), Rating(user=29, product=15, rating=1.7068608851255114), Rating(user=29, product=4, rating=1.834473314831918), Rating(user=29, product=21, rating=1.4429245500449976), Rating(user=29, product=16, rating=1.857717986959596), Rating(user=29, product=22, rating=1.7454404612218344), Rating(user=29, product=22, rating=1.7454404612218344), Rating(user=29, product=25, rating=1.455626062803411), Rating(user=29, product=25, rating=1.455626062803411), Rating(user=29, product=28, rating=1.7330451306463672), Rating(user=29, product=11, rating=1.8204313769881537), Rating(user=29, product=11, rating=1.8204313769881537), Rating(user=29, product=14, rating=1.6872122681028099), Rating(user=29, product=27, rating=1.3048395958871941), Rating(user=29, product=0, rating=1.951923003667602), Rating(user=29, product=0, rating=1.951923003667602), Rating(user=29, product=24, rating=1.7644512263943142), Rating(user=29, product=23, rating=1.8770939016560586), Rating(user=29, product=1, rating=1.9288484767883745), Rating(user=29, product=6, rating=1.6014101725435523), Rating(user=29, product=17, rating=2.0838360797172193), Rating(user=29, product=17, rating=2.0838360797172193), Rating(user=29, product=3, rating=1.9524222760753203), Rating(user=29, product=7, rating=1.9964035473141308), Rating(user=29, product=7, rating=1.9964035473141308), Rating(user=29, product=9, rating=1.781965866517318), Rating(user=29, product=8, rating=1.685090760683769), Rating(user=29, product=12, rating=1.7027340973922236), Rating(user=29, product=12, rating=1.7027340973922236), Rating(user=29, product=18, rating=1.936338255082724), Rating(user=29, product=18, rating=1.936338255082724), Rating(user=29, product=20, rating=1.8616284017684421), Rating(user=29, product=26, rating=1.5772726633861005), Rating(user=29, product=10, rating=1.8330508004494774), Rating(user=29, product=10, rating=1.8330508004494774), Rating(user=29, product=5, rating=1.8309529884501936), Rating(user=29, product=2, rating=1.9305524330826103), Rating(user=29, product=2, rating=1.9305524330826103), Rating(user=11, product=13, rating=1.6421479417988234), Rating(user=11, product=19, rating=1.6782273044975753), Rating(user=11, product=19, rating=1.6782273044975753), Rating(user=11, product=15, rating=1.7207612696206702), Rating(user=11, product=4, rating=1.5891759336416413), Rating(user=11, product=21, rating=1.384164408313799), Rating(user=11, product=16, rating=1.692345046109022), Rating(user=11, product=22, rating=1.7542848306274283), Rating(user=11, product=22, rating=1.7542848306274283), Rating(user=11, product=25, rating=1.5985653431772775), Rating(user=11, product=25, rating=1.5985653431772775), Rating(user=11, product=28, rating=1.6307006266811115), Rating(user=11, product=29, rating=1.297388546677265), Rating(user=11, product=14, rating=1.649684317281709), Rating(user=11, product=27, rating=1.2903903714358753), Rating(user=11, product=0, rating=1.7586060516481012), Rating(user=11, product=0, rating=1.7586060516481012), Rating(user=11, product=24, rating=1.562465689446391), Rating(user=11, product=23, rating=1.9830086567060388), Rating(user=11, product=1, rating=1.7924854049931156), Rating(user=11, product=1, rating=1.7924854049931156), Rating(user=11, product=6, rating=1.7145532344267025), Rating(user=11, product=17, rating=1.997994491487706), Rating(user=11, product=17, rating=1.997994491487706), Rating(user=11, product=3, rating=1.9506336984287769), Rating(user=11, product=7, rating=1.740429028462188), Rating(user=11, product=7, rating=1.740429028462188), Rating(user=11, product=9, rating=1.4929038306171236), Rating(user=11, product=8, rating=1.6696548030251162), Rating(user=11, product=12, rating=1.470840040120983), Rating(user=11, product=12, rating=1.470840040120983), Rating(user=11, product=18, rating=1.5953105496183468), Rating(user=11, product=18, rating=1.5953105496183468), Rating(user=11, product=20, rating=1.5629232847987211), Rating(user=11, product=26, rating=1.5313261065496881), Rating(user=11, product=26, rating=1.5313261065496881), Rating(user=11, product=10, rating=1.6711153102928265), Rating(user=11, product=10, rating=1.6711153102928265), Rating(user=11, product=5, rating=1.816472309098665), Rating(user=11, product=2, rating=1.7191399632819042), Rating(user=11, product=2, rating=1.7191399632819042), Rating(user=14, product=13, rating=1.6445203769360308), Rating(user=14, product=13, rating=1.6445203769360308), Rating(user=14, product=19, rating=1.805083974619258), Rating(user=14, product=15, rating=1.6933909645383913), Rating(user=14, product=4, rating=1.9005373829546883), Rating(user=14, product=4, rating=1.9005373829546883), Rating(user=14, product=21, rating=1.4533600728514475), Rating(user=14, product=21, rating=1.4533600728514475), Rating(user=14, product=16, rating=1.8989212951089378), Rating(user=14, product=16, rating=1.8989212951089378), Rating(user=14, product=22, rating=1.733328114413366), Rating(user=14, product=25, rating=1.403569173568691), Rating(user=14, product=28, rating=1.7554113358413517), Rating(user=14, product=29, rating=1.4786058521220902), Rating(user=14, product=11, rating=1.9048692452954583), Rating(user=14, product=27, rating=1.3023029616780741), Rating(user=14, product=0, rating=2.0012687434252854), Rating(user=14, product=24, rating=1.817486763190189), Rating(user=14, product=24, rating=1.817486763190189), Rating(user=14, product=23, rating=1.8342319921225343), Rating(user=14, product=23, rating=1.8342319921225343), Rating(user=14, product=1, rating=1.9606914312850279), Rating(user=14, product=6, rating=1.5577919156094993), Rating(user=14, product=6, rating=1.5577919156094993), Rating(user=14, product=17, rating=2.099210613354739), Rating(user=14, product=3, rating=1.9424889937907084), Rating(user=14, product=3, rating=1.9424889937907084), Rating(user=14, product=7, rating=2.064902337178964), Rating(user=14, product=9, rating=1.8618567362467715), Rating(user=14, product=9, rating=1.8618567362467715), Rating(user=14, product=8, rating=1.6808171103823586), Rating(user=14, product=8, rating=1.6808171103823586), Rating(user=14, product=12, rating=1.765357551520836), Rating(user=14, product=18, rating=2.031482877148555), Rating(user=14, product=20, rating=1.9440758373009857), Rating(user=14, product=20, rating=1.9440758373009857), Rating(user=14, product=26, rating=1.5830208855716812), Rating(user=14, product=10, rating=1.8733227401163006), Rating(user=14, product=5, rating=1.8256002341904596), Rating(user=14, product=5, rating=1.8256002341904596), Rating(user=14, product=2, rating=1.9856133611780677), Rating(user=27, product=13, rating=1.7128961397177562), Rating(user=27, product=13, rating=1.7128961397177562), Rating(user=27, product=19, rating=1.8652251276866423), Rating(user=27, product=15, rating=1.7673763026894136), Rating(user=27, product=4, rating=1.942522945101281), Rating(user=27, product=4, rating=1.942522945101281), Rating(user=27, product=21, rating=1.5057357960941005), Rating(user=27, product=21, rating=1.5057357960941005), Rating(user=27, product=16, rating=1.9534137770567668), Rating(user=27, product=16, rating=1.9534137770567668), Rating(user=27, product=22, rating=1.808211229643348), Rating(user=27, product=25, rating=1.485569520824754), Rating(user=27, product=28, rating=1.8137361226710453), Rating(user=27, product=29, rating=1.518592835531166), Rating(user=27, product=11, rating=1.937735797451424), Rating(user=27, product=14, rating=1.7555042616177303), Rating(user=27, product=14, rating=1.7555042616177303), Rating(user=27, product=0, rating=2.055703907819378), Rating(user=27, product=24, rating=1.862765810445687), Rating(user=27, product=23, rating=1.928666550704392), Rating(user=27, product=23, rating=1.928666550704392), Rating(user=27, product=1, rating=2.022367370173683), Rating(user=27, product=6, rating=1.6416429810645496), Rating(user=27, product=6, rating=1.6416429810645496), Rating(user=27, product=17, rating=2.174708770734057), Rating(user=27, product=3, rating=2.0245673340914436), Rating(user=27, product=3, rating=2.0245673340914436), Rating(user=27, product=7, rating=2.1121768650893245), Rating(user=27, product=9, rating=1.8953162729127442), Rating(user=27, product=9, rating=1.8953162729127442), Rating(user=27, product=8, rating=1.7496535011828769), Rating(user=27, product=8, rating=1.7496535011828769), Rating(user=27, product=12, rating=1.8037205129822311), Rating(user=27, product=18, rating=2.0639580448317005), Rating(user=27, product=20, rating=1.9795041307669763), Rating(user=27, product=20, rating=1.9795041307669763), Rating(user=27, product=26, rating=1.6429102188996012), Rating(user=27, product=10, rating=1.9272707207688597), Rating(user=27, product=5, rating=1.9007256021463377), Rating(user=27, product=5, rating=1.9007256021463377), Rating(user=27, product=2, rating=2.0365375736975295), Rating(user=0, product=13, rating=1.2720936869195425), Rating(user=0, product=19, rating=1.2535832884380973), Rating(user=0, product=19, rating=1.2535832884380973), Rating(user=0, product=15, rating=1.3441391686924877), Rating(user=0, product=15, rating=1.3441391686924877), Rating(user=0, product=4, rating=1.1156626420527083), Rating(user=0, product=21, rating=1.0471571222949754), Rating(user=0, product=16, rating=1.234762254176145), Rating(user=0, product=22, rating=1.3677317065384118), Rating(user=0, product=22, rating=1.3677317065384118), Rating(user=0, product=25, rating=1.312000559825801), Rating(user=0, product=25, rating=1.312000559825801), Rating(user=0, product=28, rating=1.217542241273069), Rating(user=0, product=29, rating=0.9380635443331524), Rating(user=0, product=29, rating=0.9380635443331524), Rating(user=0, product=11, rating=1.030009487100628), Rating(user=0, product=11, rating=1.030009487100628), Rating(user=0, product=14, rating=1.2638568379637816), Rating(user=0, product=27, rating=0.9958521126418467), Rating(user=0, product=24, rating=1.1159929526223777), Rating(user=0, product=23, rating=1.592760803242249), Rating(user=0, product=1, rating=1.326716565199149), Rating(user=0, product=1, rating=1.326716565199149), Rating(user=0, product=6, rating=1.3876376225021545), Rating(user=0, product=17, rating=1.5110376047061624), Rating(user=0, product=3, rating=1.5151560874156043), Rating(user=0, product=7, rating=1.228017198628656), Rating(user=0, product=7, rating=1.228017198628656), Rating(user=0, product=9, rating=1.0195303168887015), Rating(user=0, product=8, rating=1.2901348932783199), Rating(user=0, product=12, rating=1.030218677770847), Rating(user=0, product=12, rating=1.030218677770847), Rating(user=0, product=18, rating=1.0738173647280824), Rating(user=0, product=18, rating=1.0738173647280824), Rating(user=0, product=20, rating=1.0692538217819276), Rating(user=0, product=26, rating=1.167769977820301), Rating(user=0, product=10, rating=1.219936329805659), Rating(user=0, product=10, rating=1.219936329805659), Rating(user=0, product=5, rating=1.404706187822319), Rating(user=0, product=2, rating=1.233169584858821), Rating(user=0, product=2, rating=1.233169584858821), Rating(user=24, product=13, rating=1.252635072997741), Rating(user=24, product=13, rating=1.252635072997741), Rating(user=24, product=19, rating=1.5213323161271148), Rating(user=24, product=15, rating=1.254733676121191), Rating(user=24, product=4, rating=1.8112624059068096), Rating(user=24, product=4, rating=1.8112624059068096), Rating(user=24, product=21, rating=1.1860844850975738), Rating(user=24, product=16, rating=1.6865752775980383), Rating(user=24, product=16, rating=1.6865752775980383), Rating(user=24, product=22, rating=1.292642565977978), Rating(user=24, product=25, rating=0.8369699942519162), Rating(user=24, product=28, rating=1.4810525877633296), Rating(user=24, product=28, rating=1.4810525877633296), Rating(user=24, product=29, rating=1.3372562831464023), Rating(user=24, product=11, rating=1.9058633468826116), Rating(user=24, product=14, rating=1.331448344449221), Rating(user=24, product=14, rating=1.331448344449221), Rating(user=24, product=27, rating=1.0037892292610486), Rating(user=24, product=27, rating=1.0037892292610486), Rating(user=24, product=0, rating=1.8068769921490286), Rating(user=24, product=23, rating=1.2187311290536158), Rating(user=24, product=23, rating=1.2187311290536158), Rating(user=24, product=1, rating=1.6883125917652109), Rating(user=24, product=6, rating=0.9992283439078875), Rating(user=24, product=17, rating=1.7146594092624525), Rating(user=24, product=3, rating=1.4667006201747093), Rating(user=24, product=3, rating=1.4667006201747093), Rating(user=24, product=7, rating=1.9516287216836048), Rating(user=24, product=9, rating=1.8497198011195124), Rating(user=24, product=9, rating=1.8497198011195124), Rating(user=24, product=8, rating=1.2905769958529518), Rating(user=24, product=8, rating=1.2905769958529518), Rating(user=24, product=12, rating=1.6886796912526094), Rating(user=24, product=18, rating=2.057834665928617), Rating(user=24, product=20, rating=1.9265802733446336), Rating(user=24, product=20, rating=1.9265802733446336), Rating(user=24, product=26, rating=1.2640073406042092), Rating(user=24, product=10, rating=1.6619729245411463), Rating(user=24, product=5, rating=1.3982156258226404), Rating(user=24, product=5, rating=1.3982156258226404), Rating(user=24, product=2, rating=1.8230328554537607), Rating(user=23, product=13, rating=1.4824489465562092), Rating(user=23, product=19, rating=1.4788410433303412), Rating(user=23, product=15, rating=1.5620978246450967), Rating(user=23, product=4, rating=1.3447678879659435), Rating(user=23, product=4, rating=1.3447678879659435), Rating(user=23, product=21, rating=1.2300171574627523), Rating(user=23, product=21, rating=1.2300171574627523), Rating(user=23, product=16, rating=1.4684133542981463), Rating(user=23, product=16, rating=1.4684133542981463), Rating(user=23, product=22, rating=1.5905105524113825), Rating(user=23, product=25, rating=1.5004712297388139), Rating(user=23, product=28, rating=1.4365403110731663), Rating(user=23, product=28, rating=1.4365403110731663), Rating(user=23, product=29, rating=1.1190735933890998), Rating(user=23, product=11, rating=1.25615409356665), Rating(user=23, product=14, rating=1.478292074663548), Rating(user=23, product=14, rating=1.478292074663548), Rating(user=23, product=27, rating=1.1619782742058815), Rating(user=23, product=27, rating=1.1619782742058815), Rating(user=23, product=0, rating=1.5177661986565596), Rating(user=23, product=24, rating=1.3370249203061988), Rating(user=23, product=24, rating=1.3370249203061988), Rating(user=23, product=1, rating=1.5700132349374059), Rating(user=23, product=6, rating=1.5941112566039664), Rating(user=23, product=6, rating=1.5941112566039664), Rating(user=23, product=17, rating=1.7751001392232872), Rating(user=23, product=3, rating=1.7641218731703452), Rating(user=23, product=7, rating=1.477562879625168), Rating(user=23, product=9, rating=1.241073140236992), Rating(user=23, product=9, rating=1.241073140236992), Rating(user=23, product=8, rating=1.504736669024096), Rating(user=23, product=8, rating=1.504736669024096), Rating(user=23, product=12, rating=1.2427878235870438), Rating(user=23, product=18, rating=1.3140198170397923), Rating(user=23, product=20, rating=1.3007655711079096), Rating(user=23, product=20, rating=1.3007655711079096), Rating(user=23, product=26, rating=1.3680175558235455), Rating(user=23, product=10, rating=1.4505095251340592), Rating(user=23, product=5, rating=1.6379293287996477), Rating(user=23, product=5, rating=1.6379293287996477), Rating(user=23, product=2, rating=1.4751986667953787), Rating(user=1, product=13, rating=1.5050591418996193), Rating(user=1, product=19, rating=1.5133704158011874), Rating(user=1, product=19, rating=1.5133704158011874), Rating(user=1, product=15, rating=1.58304972073128), Rating(user=1, product=15, rating=1.58304972073128), Rating(user=1, product=4, rating=1.3950198146316808), Rating(user=1, product=21, rating=1.2552436038030033), Rating(user=1, product=16, rating=1.5104532025338404), Rating(user=1, product=22, rating=1.6125083214933182), Rating(user=1, product=25, rating=1.5043694151074796), Rating(user=1, product=25, rating=1.5043694151074796), Rating(user=1, product=28, rating=1.4702246159405128), Rating(user=1, product=29, rating=1.1533999361335336), Rating(user=1, product=29, rating=1.1533999361335336), Rating(user=1, product=11, rating=1.3125223457320843), Rating(user=1, product=11, rating=1.3125223457320843), Rating(user=1, product=14, rating=1.5044664695627121), Rating(user=1, product=27, rating=1.1806676363951518), Rating(user=1, product=0, rating=1.5640221887433299), Rating(user=1, product=0, rating=1.5640221887433299), Rating(user=1, product=24, rating=1.3817407844674428), Rating(user=1, product=23, rating=1.8476338593392407), Rating(user=1, product=6, rating=1.603100878206611), Rating(user=1, product=17, rating=1.811636165170091), Rating(user=1, product=17, rating=1.811636165170091), Rating(user=1, product=3, rating=1.7899731613558676), Rating(user=1, product=7, rating=1.5310809220287496), Rating(user=1, product=9, rating=1.2952989803764012), Rating(user=1, product=8, rating=1.528528827445812), Rating(user=1, product=12, rating=1.2898799040336861), Rating(user=1, product=12, rating=1.2898799040336861), Rating(user=1, product=18, rating=1.375812577366979), Rating(user=1, product=18, rating=1.375812577366979), Rating(user=1, product=20, rating=1.357066083078319), Rating(user=1, product=26, rating=1.3936441894874303), Rating(user=1, product=26, rating=1.3936441894874303), Rating(user=1, product=10, rating=1.4918588419840866), Rating(user=1, product=10, rating=1.4918588419840866), Rating(user=1, product=5, rating=1.6635367495023146), Rating(user=1, product=2, rating=1.5231022309116682), Rating(user=1, product=2, rating=1.5231022309116682), Rating(user=6, product=13, rating=1.5269315354207649), Rating(user=6, product=13, rating=1.5269315354207649), Rating(user=6, product=19, rating=1.711490769389826), Rating(user=6, product=15, rating=1.563795460143865), Rating(user=6, product=4, rating=1.8527592427202038), Rating(user=6, product=4, rating=1.8527592427202038), Rating(user=6, product=21, rating=1.3685978911395793), Rating(user=6, product=21, rating=1.3685978911395793), Rating(user=6, product=16, rating=1.8213412063177685), Rating(user=6, product=16, rating=1.8213412063177685), Rating(user=6, product=22, rating=1.602691718668261), Rating(user=6, product=25, rating=1.2469559210825025), Rating(user=6, product=28, rating=1.66477764184107), Rating(user=6, product=28, rating=1.66477764184107), Rating(user=6, product=29, rating=1.424012423622898), Rating(user=6, product=11, rating=1.8789066961540044), Rating(user=6, product=14, rating=1.5796881921205213), Rating(user=6, product=14, rating=1.5796881921205213), Rating(user=6, product=27, rating=1.2120486926562997), Rating(user=6, product=0, rating=1.926631671234901), Rating(user=6, product=24, rating=1.7595949851702173), Rating(user=6, product=24, rating=1.7595949851702173), Rating(user=6, product=23, rating=1.6598440320028303), Rating(user=6, product=23, rating=1.6598440320028303), Rating(user=6, product=1, rating=1.8677136938526786), Rating(user=6, product=17, rating=1.9771443306092067), Rating(user=6, product=3, rating=1.8004687987604093), Rating(user=6, product=3, rating=1.8004687987604093), Rating(user=6, product=7, rating=2.0090475234276113), Rating(user=6, product=9, rating=1.833303784732074), Rating(user=6, product=9, rating=1.833303784732074), Rating(user=6, product=8, rating=1.5631276533929181), Rating(user=6, product=8, rating=1.5631276533929181), Rating(user=6, product=12, rating=1.7224916477388703), Rating(user=6, product=18, rating=2.0099236315930327), Rating(user=6, product=20, rating=1.9130933039266793), Rating(user=6, product=26, rating=1.483937268337442), Rating(user=6, product=10, rating=1.7963361986527389), Rating(user=6, product=5, rating=1.6969177969616531), Rating(user=6, product=5, rating=1.6969177969616531), Rating(user=6, product=2, rating=1.9189005608928653), Rating(user=17, product=13, rating=1.6475412744712963), Rating(user=17, product=19, rating=1.5248455890883914), Rating(user=17, product=19, rating=1.5248455890883914), Rating(user=17, product=15, rating=1.7645378040334156), Rating(user=17, product=4, rating=1.1997341417622067), Rating(user=17, product=21, rating=1.3029046047828534), Rating(user=17, product=16, rating=1.4372378517007869), Rating(user=17, product=22, rating=1.7900434819379014), Rating(user=17, product=22, rating=1.7900434819379014), Rating(user=17, product=25, rating=1.8557649115707466), Rating(user=17, product=25, rating=1.8557649115707466), Rating(user=17, product=28, rating=1.4798154242741806), Rating(user=17, product=29, rating=1.0726376584983486), Rating(user=17, product=29, rating=1.0726376584983486), Rating(user=17, product=11, rating=1.0272319685845055), Rating(user=17, product=11, rating=1.0272319685845055), Rating(user=17, product=14, rating=1.6069654093781574), Rating(user=17, product=27, rating=1.281797190909198), Rating(user=17, product=0, rating=1.457758147825114), Rating(user=17, product=0, rating=1.457758147825114), Rating(user=17, product=24, rating=1.2448307215700343), Rating(user=17, product=23, rating=2.183160107884792), Rating(user=17, product=1, rating=1.5868886885867433), Rating(user=17, product=1, rating=1.5868886885867433), Rating(user=17, product=6, rating=1.9235237408227555), Rating(user=17, product=3, rating=1.9710391572087949), Rating(user=17, product=7, rating=1.33501985075862), Rating(user=17, product=7, rating=1.33501985075862), Rating(user=17, product=9, rating=1.0294268534254556), Rating(user=17, product=8, rating=1.6639649978055258), Rating(user=17, product=12, rating=1.102300147592496), Rating(user=17, product=18, rating=1.0465230117724396), Rating(user=17, product=18, rating=1.0465230117724396), Rating(user=17, product=20, rating=1.0842271122588993), Rating(user=17, product=26, rating=1.4731688667339844), Rating(user=17, product=26, rating=1.4731688667339844), Rating(user=17, product=10, rating=1.42147798777596), Rating(user=17, product=10, rating=1.42147798777596), Rating(user=17, product=5, rating=1.8141333557706882), Rating(user=17, product=2, rating=1.3876845586003448), Rating(user=17, product=2, rating=1.3876845586003448), Rating(user=18, product=13, rating=1.7643644080593486), Rating(user=18, product=19, rating=1.7435590614401875), Rating(user=18, product=19, rating=1.7435590614401875), Rating(user=18, product=15, rating=1.8631217526184862), Rating(user=18, product=15, rating=1.8631217526184862), Rating(user=18, product=4, rating=1.5594897244009047), Rating(user=18, product=21, rating=1.4550115163505435), Rating(user=18, product=16, rating=1.7205727878845316), Rating(user=18, product=22, rating=1.8960930782968308), Rating(user=18, product=22, rating=1.8960930782968308), Rating(user=18, product=25, rating=1.8119951433545438), Rating(user=18, product=25, rating=1.8119951433545438), Rating(user=18, product=28, rating=1.6934896958679175), Rating(user=18, product=29, rating=1.3080887739730223), Rating(user=18, product=29, rating=1.3080887739730223), Rating(user=18, product=11, rating=1.4437268649583785), Rating(user=18, product=11, rating=1.4437268649583785), Rating(user=18, product=14, rating=1.7544149006430114), Rating(user=18, product=27, rating=1.3816168788389183), Rating(user=18, product=0, rating=1.7745352668337802), Rating(user=18, product=0, rating=1.7745352668337802), Rating(user=18, product=24, rating=1.5577451677357388), Rating(user=18, product=23, rating=2.2031895944894213), Rating(user=18, product=1, rating=1.8466044674047595), Rating(user=18, product=1, rating=1.8466044674047595), Rating(user=18, product=6, rating=1.9183912959655771), Rating(user=18, product=17, rating=2.0996210139133247), Rating(user=18, product=17, rating=2.0996210139133247), Rating(user=18, product=3, rating=2.101057416906282), Rating(user=18, product=7, rating=1.7158273107596642), Rating(user=18, product=7, rating=1.7158273107596642), Rating(user=18, product=9, rating=1.4284150082311982), Rating(user=18, product=8, rating=1.7897294730496949), Rating(user=18, product=12, rating=1.4403286344388633), Rating(user=18, product=12, rating=1.4403286344388633), Rating(user=18, product=20, rating=1.4978536831183291), Rating(user=18, product=26, rating=1.6216057431886846), Rating(user=18, product=26, rating=1.6216057431886846), Rating(user=18, product=10, rating=1.6998398540282764), Rating(user=18, product=5, rating=1.9485493091537487), Rating(user=18, product=2, rating=1.7207056288142297), Rating(user=8, product=13, rating=1.5704234704828686), Rating(user=8, product=19, rating=1.6952685658680906), Rating(user=8, product=15, rating=1.6239265741636117), Rating(user=8, product=4, rating=1.7441563223129037), Rating(user=8, product=4, rating=1.7441563223129037), Rating(user=8, product=21, rating=1.3724942849296902), Rating(user=8, product=21, rating=1.3724942849296902), Rating(user=8, product=16, rating=1.7666337671467787), Rating(user=8, product=16, rating=1.7666337671467787), Rating(user=8, product=22, rating=1.660607220638692), Rating(user=8, product=25, rating=1.3854944124596642), Rating(user=8, product=28, rating=1.6483095383818664), Rating(user=8, product=28, rating=1.6483095383818664), Rating(user=8, product=29, rating=1.3709307649103906), Rating(user=8, product=11, rating=1.7305286089041658), Rating(user=8, product=14, rating=1.604999769270254), Rating(user=8, product=27, rating=1.2413251063022859), Rating(user=8, product=27, rating=1.2413251063022859), Rating(user=8, product=0, rating=1.8561310528213824), Rating(user=8, product=24, rating=1.6777358605956607), Rating(user=8, product=24, rating=1.6777358605956607), Rating(user=8, product=23, rating=1.7862998588899082), Rating(user=8, product=23, rating=1.7862998588899082), Rating(user=8, product=1, rating=1.8344372605583033), Rating(user=8, product=6, rating=1.5240543033521305), Rating(user=8, product=6, rating=1.5240543033521305), Rating(user=8, product=17, rating=1.982117967150991), Rating(user=8, product=3, rating=1.8574760807445987), Rating(user=8, product=3, rating=1.8574760807445987), Rating(user=8, product=7, rating=1.8981640679759835), Rating(user=8, product=9, rating=1.6940032855582103), Rating(user=8, product=9, rating=1.6940032855582103), Rating(user=8, product=12, rating=1.6188839137326596), Rating(user=8, product=18, rating=1.840633136942614), Rating(user=8, product=20, rating=1.769748362833397), Rating(user=8, product=20, rating=1.769748362833397), Rating(user=8, product=26, rating=1.5003678222085668), Rating(user=8, product=10, rating=1.7431816569004042), Rating(user=8, product=5, rating=1.7418556779872159), Rating(user=8, product=5, rating=1.7418556779872159), Rating(user=8, product=2, rating=1.8357174427154916), Rating(user=9, product=13, rating=1.5449277354679865), Rating(user=9, product=13, rating=1.5449277354679865), Rating(user=9, product=19, rating=1.5371276238697362), Rating(user=9, product=15, rating=1.6289028642665215), Rating(user=9, product=4, rating=1.3914090563416153), Rating(user=9, product=4, rating=1.3914090563416153), Rating(user=9, product=21, rating=1.2796752760953396), Rating(user=9, product=16, rating=1.5236727228405726), Rating(user=9, product=22, rating=1.6583063967161635), Rating(user=9, product=25, rating=1.570115840546265), Rating(user=9, product=28, rating=1.4931115465583673), Rating(user=9, product=28, rating=1.4931115465583673), Rating(user=9, product=29, rating=1.1604146529434871), Rating(user=9, product=11, rating=1.2965408865911172), Rating(user=9, product=14, rating=1.5393717008353818), Rating(user=9, product=14, rating=1.5393717008353818), Rating(user=9, product=27, rating=1.2106243583530762), Rating(user=9, product=27, rating=1.2106243583530762), Rating(user=9, product=0, rating=1.5739370030821078), Rating(user=9, product=24, rating=1.38516780295285), Rating(user=9, product=24, rating=1.38516780295285), Rating(user=9, product=23, rating=1.9164799118617353), Rating(user=9, product=23, rating=1.9164799118617353), Rating(user=9, product=1, rating=1.6308051267471342), Rating(user=9, product=6, rating=1.6664663923598368), Rating(user=9, product=6, rating=1.6664663923598368), Rating(user=9, product=17, rating=1.846720270156979), Rating(user=9, product=3, rating=1.8388279018981741), Rating(user=9, product=3, rating=1.8388279018981741), Rating(user=9, product=7, rating=1.5293821502771152), Rating(user=9, product=8, rating=1.5678706831281275), Rating(user=9, product=8, rating=1.5678706831281275), Rating(user=9, product=12, rating=1.285672325006857), Rating(user=9, product=18, rating=1.3553129264338395), Rating(user=9, product=20, rating=1.343284973811734), Rating(user=9, product=20, rating=1.343284973811734), Rating(user=9, product=26, rating=1.4240669266459207), Rating(user=9, product=10, rating=1.5051551790899396), Rating(user=9, product=5, rating=1.7067497761256867), Rating(user=9, product=5, rating=1.7067497761256867), Rating(user=9, product=2, rating=1.5288004801655575), Rating(user=7, product=13, rating=1.416969501985026), Rating(user=7, product=19, rating=1.5467921234484692), Rating(user=7, product=19, rating=1.5467921234484692), Rating(user=7, product=15, rating=1.4611231447851623), Rating(user=7, product=15, rating=1.4611231447851623), Rating(user=7, product=4, rating=1.6163898467712308), Rating(user=7, product=21, rating=1.2476567854900544), Rating(user=7, product=16, rating=1.6221856494232085), Rating(user=7, product=22, rating=1.495098195374414), Rating(user=7, product=22, rating=1.495098195374414), Rating(user=7, product=25, rating=1.222874468548369), Rating(user=7, product=25, rating=1.222874468548369), Rating(user=7, product=28, rating=1.5041349455635), Rating(user=7, product=29, rating=1.26172696117289), Rating(user=7, product=29, rating=1.26172696117289), Rating(user=7, product=11, rating=1.6148062626849153), Rating(user=7, product=11, rating=1.6148062626849153), Rating(user=7, product=14, rating=1.4533708995330592), Rating(user=7, product=27, rating=1.12141607896268), Rating(user=7, product=0, rating=1.7079059098628733), Rating(user=7, product=0, rating=1.7079059098628733), Rating(user=7, product=24, rating=1.5486876914584649), Rating(user=7, product=23, rating=1.5908187307618569), Rating(user=7, product=1, rating=1.6780470771582756), Rating(user=7, product=1, rating=1.6780470771582756), Rating(user=7, product=6, rating=1.3531498324605096), Rating(user=7, product=17, rating=1.80200880302354), Rating(user=7, product=17, rating=1.80200880302354), Rating(user=7, product=3, rating=1.6744594384744556), Rating(user=7, product=9, rating=1.579106713103176), Rating(user=7, product=8, rating=1.4476444802956188), Rating(user=7, product=12, rating=1.5010568757392058), Rating(user=7, product=12, rating=1.5010568757392058), Rating(user=7, product=18, rating=1.7206672568771317), Rating(user=7, product=20, rating=1.6491204491261335), Rating(user=7, product=26, rating=1.3605899637788141), Rating(user=7, product=26, rating=1.3605899637788141), Rating(user=7, product=10, rating=1.6004263191784673), Rating(user=7, product=10, rating=1.6004263191784673), Rating(user=7, product=5, rating=1.572547977987023), Rating(user=7, product=2, rating=1.692781747232047), Rating(user=12, product=13, rating=1.474907605542512), Rating(user=12, product=19, rating=1.6129802104726423), Rating(user=12, product=15, rating=1.5201608022359494), Rating(user=12, product=15, rating=1.5201608022359494), Rating(user=12, product=4, rating=1.6897886162561946), Rating(user=12, product=21, rating=1.3002604839376204), Rating(user=12, product=16, rating=1.693340651411802), Rating(user=12, product=22, rating=1.5556755286519035), Rating(user=12, product=22, rating=1.5556755286519035), Rating(user=12, product=25, rating=1.2682117673230096), Rating(user=12, product=28, rating=1.568529724738454), Rating(user=12, product=29, rating=1.3175572388113324), Rating(user=12, product=29, rating=1.3175572388113324), Rating(user=12, product=11, rating=1.6899749075453485), Rating(user=12, product=11, rating=1.6899749075453485), Rating(user=12, product=14, rating=1.5136886019660665), Rating(user=12, product=27, rating=1.167506927106146), Rating(user=12, product=0, rating=1.7834167621314805), Rating(user=12, product=0, rating=1.7834167621314805), Rating(user=12, product=24, rating=1.6179871742981362), Rating(user=12, product=23, rating=1.6522803532079706), Rating(user=12, product=1, rating=1.7505756521072442), Rating(user=12, product=1, rating=1.7505756521072442), Rating(user=12, product=6, rating=1.404713875862086), Rating(user=12, product=17, rating=1.8780152898998779), Rating(user=12, product=17, rating=1.8780152898998779), Rating(user=12, product=3, rating=1.7426668103130538), Rating(user=12, product=7, rating=1.8365867443413606), Rating(user=12, product=7, rating=1.8365867443413606), Rating(user=12, product=9, rating=1.6523458298037355), Rating(user=12, product=8, rating=1.5070437070800438), Rating(user=12, product=18, rating=1.8012802431355084), Rating(user=12, product=18, rating=1.8012802431355084), Rating(user=12, product=20, rating=1.7255083599419123), Rating(user=12, product=26, rating=1.4173925934043723), Rating(user=12, product=26, rating=1.4173925934043723), Rating(user=12, product=10, rating=1.6705890513156305), Rating(user=12, product=10, rating=1.6705890513156305), Rating(user=12, product=5, rating=1.6370012426338434), Rating(user=12, product=2, rating=1.7682384483260307), Rating(user=12, product=2, rating=1.7682384483260307), Rating(user=20, product=13, rating=1.3242988887749938), Rating(user=20, product=13, rating=1.3242988887749938), Rating(user=20, product=19, rating=1.5333028999424272), Rating(user=20, product=15, rating=1.344528819585399), Rating(user=20, product=4, rating=1.7284371550276774), Rating(user=20, product=4, rating=1.7284371550276774), Rating(user=20, product=21, rating=1.2134039600523359), Rating(user=20, product=21, rating=1.2134039600523359), Rating(user=20, product=16, rating=1.6599197677444195), Rating(user=20, product=16, rating=1.6599197677444195), Rating(user=20, product=22, rating=1.3807666184802336), Rating(user=20, product=25, rating=1.003880987074652), Rating(user=20, product=28, rating=1.4919719114189576), Rating(user=20, product=28, rating=1.4919719114189576), Rating(user=20, product=29, rating=1.3055700139513604), Rating(user=20, product=11, rating=1.7816347461421458), Rating(user=20, product=14, rating=1.384879911730767), Rating(user=20, product=14, rating=1.384879911730767), Rating(user=20, product=27, rating=1.0551546491565649), Rating(user=20, product=27, rating=1.0551546491565649), Rating(user=20, product=0, rating=1.7653920634547546), Rating(user=20, product=24, rating=1.6254938785284736), Rating(user=20, product=24, rating=1.6254938785284736), Rating(user=20, product=23, rating=1.3799353038571276), Rating(user=20, product=23, rating=1.3799353038571276), Rating(user=20, product=1, rating=1.684991159057546), Rating(user=20, product=6, rating=1.1524575559988932), Rating(user=20, product=6, rating=1.1524575559988932), Rating(user=20, product=17, rating=1.753437056910336), Rating(user=20, product=3, rating=1.5572247026083321), Rating(user=20, product=3, rating=1.5572247026083321), Rating(user=20, product=7, rating=1.8690557905459286), Rating(user=20, product=9, rating=1.7342679066989035), Rating(user=20, product=8, rating=1.359132838385694), Rating(user=20, product=12, rating=1.6088996491781842), Rating(user=20, product=18, rating=1.9138272522534692), Rating(user=20, product=26, rating=1.3064707448608246), Rating(user=20, product=10, rating=1.6365269554929256), Rating(user=20, product=5, rating=1.474284752295544), Rating(user=20, product=5, rating=1.474284752295544), Rating(user=20, product=2, rating=1.7680736517387743), Rating(user=3, product=13, rating=1.2325125322663233), Rating(user=3, product=13, rating=1.2325125322663233), Rating(user=3, product=19, rating=1.4246119633190375), Rating(user=3, product=15, rating=1.2519206682799506), Rating(user=3, product=4, rating=1.6026327847674118), Rating(user=3, product=21, rating=1.1279975488569072), Rating(user=3, product=21, rating=1.1279975488569072), Rating(user=3, product=16, rating=1.5409039465516585), Rating(user=3, product=22, rating=1.285523125029183), Rating(user=3, product=25, rating=0.9381377130389836), Rating(user=3, product=28, rating=1.3861859779663988), Rating(user=3, product=28, rating=1.3861859779663988), Rating(user=3, product=29, rating=1.2115957815475369), Rating(user=3, product=11, rating=1.6506348702174947), Rating(user=3, product=14, rating=1.2881619916867173), Rating(user=3, product=14, rating=1.2881619916867173), Rating(user=3, product=27, rating=0.9818272035985789), Rating(user=3, product=27, rating=0.9818272035985789), Rating(user=3, product=0, rating=1.6383664547509653), Rating(user=3, product=24, rating=1.507918805678326), Rating(user=3, product=24, rating=1.507918805678326), Rating(user=3, product=23, rating=1.2872403403079709), Rating(user=3, product=23, rating=1.2872403403079709), Rating(user=3, product=1, rating=1.5649862848118445), Rating(user=3, product=6, rating=1.075676600210791), Rating(user=3, product=6, rating=1.075676600210791), Rating(user=3, product=17, rating=1.6299961202240212), Rating(user=3, product=7, rating=1.7332546143432737), Rating(user=3, product=9, rating=1.6069372781948097), Rating(user=3, product=9, rating=1.6069372781948097), Rating(user=3, product=8, rating=1.2647620819197876), Rating(user=3, product=8, rating=1.2647620819197876), Rating(user=3, product=12, rating=1.4917044308042584), Rating(user=3, product=18, rating=1.7727477780050656), Rating(user=3, product=20, rating=1.6755351552931508), Rating(user=3, product=20, rating=1.6755351552931508), Rating(user=3, product=26, rating=1.2149582354503181), Rating(user=3, product=10, rating=1.5192167983730087), Rating(user=3, product=5, rating=1.3719765521785217), Rating(user=3, product=5, rating=1.3719765521785217), Rating(user=3, product=2, rating=1.6403982569830617), Rating(user=26, product=13, rating=1.6317462586282012), Rating(user=26, product=19, rating=1.750409170590828), Rating(user=26, product=19, rating=1.750409170590828), Rating(user=26, product=15, rating=1.6899916543571507), Rating(user=26, product=15, rating=1.6899916543571507), Rating(user=26, product=4, rating=1.7847991473374805), Rating(user=26, product=21, rating=1.4201170994599472), Rating(user=26, product=16, rating=1.8174789036226926), Rating(user=26, product=22, rating=1.7275390111105615), Rating(user=26, product=22, rating=1.7275390111105615), Rating(user=26, product=25, rating=1.4571288317300315), Rating(user=26, product=25, rating=1.4571288317300315), Rating(user=26, product=28, rating=1.701801051864848), Rating(user=26, product=29, rating=1.4085269914655285), Rating(user=26, product=29, rating=1.4085269914655285), Rating(user=26, product=11, rating=1.763743332441237), Rating(user=26, product=14, rating=1.6643229184802557), Rating(user=26, product=27, rating=1.2889041650211528), Rating(user=26, product=0, rating=1.9072727465945434), Rating(user=26, product=0, rating=1.9072727465945434), Rating(user=26, product=24, rating=1.7207881146218966), Rating(user=26, product=23, rating=1.8695273838377666), Rating(user=26, product=1, rating=1.891352512216173), Rating(user=26, product=1, rating=1.891352512216173), Rating(user=26, product=6, rating=1.5977165778709548), Rating(user=26, product=17, rating=2.050779135596933), Rating(user=26, product=3, rating=1.9309820327971554), Rating(user=26, product=7, rating=1.9436749551794605), Rating(user=26, product=7, rating=1.9436749551794605), Rating(user=26, product=9, rating=1.727557692249718), Rating(user=26, product=8, rating=1.664902276088032), Rating(user=26, product=12, rating=1.6561166137825154), Rating(user=26, product=12, rating=1.6561166137825154), Rating(user=26, product=18, rating=1.8739531675510364), Rating(user=26, product=18, rating=1.8739531675510364), Rating(user=26, product=20, rating=1.8051854182738651), Rating(user=26, product=10, rating=1.7934965157704283), Rating(user=26, product=10, rating=1.7934965157704283), Rating(user=26, product=5, rating=1.8092947260603847), Rating(user=26, product=2, rating=1.8839410960592033), Rating(user=26, product=2, rating=1.8839410960592033), Rating(user=10, product=13, rating=1.2763550012897298), Rating(user=10, product=19, rating=1.3446953283979042), Rating(user=10, product=19, rating=1.3446953283979042), Rating(user=10, product=15, rating=1.32778793180168), Rating(user=10, product=15, rating=1.32778793180168), Rating(user=10, product=4, rating=1.3352745274717392), Rating(user=10, product=21, rating=1.0975996276206814), Rating(user=10, product=16, rating=1.3814791423196482), Rating(user=10, product=22, rating=1.3559054046279044), Rating(user=10, product=22, rating=1.3559054046279044), Rating(user=10, product=25, rating=1.178582476524923), Rating(user=10, product=25, rating=1.178582476524923), Rating(user=10, product=28, rating=1.3070826080892175), Rating(user=10, product=29, rating=1.0664724968582675), Rating(user=10, product=11, rating=1.30353861486509), Rating(user=10, product=11, rating=1.30353861486509), Rating(user=10, product=14, rating=1.2944208781916444), Rating(user=10, product=27, rating=1.0062065795537691), Rating(user=10, product=0, rating=1.4446360370220646), Rating(user=10, product=24, rating=1.296280547566795), Rating(user=10, product=23, rating=1.492178456054532), Rating(user=10, product=1, rating=1.4468397888641107), Rating(user=10, product=1, rating=1.4468397888641107), Rating(user=10, product=6, rating=1.2810619601729627), Rating(user=10, product=17, rating=1.584780115236839), Rating(user=10, product=17, rating=1.584780115236839), Rating(user=10, product=3, rating=1.512574370203133), Rating(user=10, product=7, rating=1.4570111325976427), Rating(user=10, product=7, rating=1.4570111325976427), Rating(user=10, product=9, rating=1.2791435209659596), Rating(user=10, product=8, rating=1.300568392756631), Rating(user=10, product=12, rating=1.237898680289419), Rating(user=10, product=12, rating=1.237898680289419), Rating(user=10, product=18, rating=1.3804601768809732), Rating(user=10, product=18, rating=1.3804601768809732), Rating(user=10, product=20, rating=1.3374840850964063), Rating(user=10, product=26, rating=1.2062440838504074), Rating(user=10, product=26, rating=1.2062440838504074), Rating(user=10, product=5, rating=1.4139543646529447), Rating(user=10, product=2, rating=1.4216907669815555), Rating(user=10, product=2, rating=1.4216907669815555), Rating(user=5, product=13, rating=1.5067696533112187), Rating(user=5, product=13, rating=1.5067696533112187), Rating(user=5, product=19, rating=1.6188358817613775), Rating(user=5, product=15, rating=1.5599561104605293), Rating(user=5, product=4, rating=1.6542892499159123), Rating(user=5, product=4, rating=1.6542892499159123), Rating(user=5, product=21, rating=1.3126949422607783), Rating(user=5, product=21, rating=1.3126949422607783), Rating(user=5, product=16, rating=1.6823646981769436), Rating(user=5, product=16, rating=1.6823646981769436), Rating(user=5, product=22, rating=1.5947551528061492), Rating(user=5, product=25, rating=1.3415751899983164), Rating(user=5, product=28, rating=1.5739090948118175), Rating(user=5, product=28, rating=1.5739090948118175), Rating(user=5, product=29, rating=1.3042383089338507), Rating(user=5, product=11, rating=1.6364001515435405), Rating(user=5, product=14, rating=1.537606135427163), Rating(user=5, product=14, rating=1.537606135427163), Rating(user=5, product=27, rating=1.1903873005895251), Rating(user=5, product=27, rating=1.1903873005895251), Rating(user=5, product=0, rating=1.7660018926054732), Rating(user=5, product=24, rating=1.5940534061996914), Rating(user=5, product=24, rating=1.5940534061996914), Rating(user=5, product=23, rating=1.7233022822296267), Rating(user=5, product=23, rating=1.7233022822296267), Rating(user=5, product=1, rating=1.7498090013427827), Rating(user=5, product=6, rating=1.4721575303850614), Rating(user=5, product=6, rating=1.4721575303850614), Rating(user=5, product=17, rating=1.8956775863225594), Rating(user=5, product=3, rating=1.7828672130410022), Rating(user=5, product=3, rating=1.7828672130410022), Rating(user=5, product=7, rating=1.8012548400897828), Rating(user=5, product=9, rating=1.602588031303931), Rating(user=5, product=8, rating=1.5375614520702658), Rating(user=5, product=8, rating=1.5375614520702658), Rating(user=5, product=12, rating=1.5351287212971556), Rating(user=5, product=18, rating=1.7391141010664413), Rating(user=5, product=20, rating=1.6745124707835544), Rating(user=5, product=26, rating=1.4364841635198466), Rating(user=5, product=10, rating=1.6601322656290236), Rating(user=5, product=2, rating=1.7449351886350968), Rating(user=2, product=13, rating=1.1255237630995243), Rating(user=2, product=19, rating=1.2653199637022041), Rating(user=2, product=19, rating=1.2653199637022041), Rating(user=2, product=15, rating=1.1517957610774623), Rating(user=2, product=15, rating=1.1517957610774623), Rating(user=2, product=4, rating=1.3750225424288445), Rating(user=2, product=21, rating=1.010841404151103), Rating(user=2, product=16, rating=1.3486973458839948), Rating(user=2, product=22, rating=1.1806588422330702), Rating(user=2, product=22, rating=1.1806588422330702), Rating(user=2, product=25, rating=0.9131957074292032), Rating(user=2, product=28, rating=1.2308243435737367), Rating(user=2, product=29, rating=1.0550724243247807), Rating(user=2, product=29, rating=1.0550724243247807), Rating(user=2, product=11, rating=1.3966379834650695), Rating(user=2, product=11, rating=1.3966379834650695), Rating(user=2, product=14, rating=1.1655490144234495), Rating(user=2, product=27, rating=0.8937221929919597), Rating(user=2, product=0, rating=1.4273945576666875), Rating(user=2, product=24, rating=1.3046508296156105), Rating(user=2, product=23, rating=1.2189195865029578), Rating(user=2, product=1, rating=1.3817169642010754), Rating(user=2, product=1, rating=1.3817169642010754), Rating(user=2, product=6, rating=1.027895879328014), Rating(user=2, product=17, rating=1.4603494528613616), Rating(user=2, product=17, rating=1.4603494528613616), Rating(user=2, product=3, rating=1.326821301555296), Rating(user=2, product=7, rating=1.49061400979771), Rating(user=2, product=7, rating=1.49061400979771), Rating(user=2, product=9, rating=1.3624237154765027), Rating(user=2, product=8, rating=1.152468499900289), Rating(user=2, product=12, rating=1.2784972520802), Rating(user=2, product=12, rating=1.2784972520802), Rating(user=2, product=18, rating=1.4946367607848927), Rating(user=2, product=18, rating=1.4946367607848927), Rating(user=2, product=20, rating=1.4216028315662186), Rating(user=2, product=26, rating=1.095325238049309), Rating(user=2, product=26, rating=1.095325238049309), Rating(user=2, product=10, rating=1.3301348777475326), Rating(user=2, product=10, rating=1.3301348777475326), Rating(user=2, product=5, rating=1.2510193984794062)]\n"
          ],
          "name": "stdout"
        }
      ]
    },
    {
      "cell_type": "code",
      "metadata": {
        "id": "EaSdXJg4K7E1",
        "colab_type": "code",
        "colab": {
          "base_uri": "https://localhost:8080/",
          "height": 51
        },
        "outputId": "127692c4-b0c8-45db-da6e-faade65cf327"
      },
      "source": [
        "transform = test1.map(lambda x: (x.user,x.product, 2 if x.rating > 1 else 1))\n",
        "score = 0\n",
        "for row in transform.collect():\n",
        "  team1 = nba_df_per_minute.iloc[row[0]]['Team']\n",
        "  team2 = nba_df_per_minute.iloc[row[1]]['Team']\n",
        "  winner = team1_vs_team2.loc[(team1_vs_team2['team1']== team1) & (team1_vs_team2['team2']== team2)]\n",
        "  score += 1 if winner.iloc[0]['winner'] == row[2] else 0 \n",
        "\n",
        "print(score,transform.count())\n",
        "score/transform.count()"
      ],
      "execution_count": 44,
      "outputs": [
        {
          "output_type": "stream",
          "text": [
            "755 1230\n"
          ],
          "name": "stdout"
        },
        {
          "output_type": "execute_result",
          "data": {
            "text/plain": [
              "0.6138211382113821"
            ]
          },
          "metadata": {
            "tags": []
          },
          "execution_count": 44
        }
      ]
    },
    {
      "cell_type": "code",
      "metadata": {
        "id": "D_FjJwjX9imE",
        "colab_type": "code",
        "colab": {
          "base_uri": "https://localhost:8080/",
          "height": 54
        },
        "outputId": "75badcda-2944-4a9b-e0bf-ae664c5eb248"
      },
      "source": [
        "test_for_als_df = team1_vs_team2_res[['team1','team2','winner']]\n",
        "test_for_als_df.loc[0,:]\n",
        "\n",
        "\n",
        "test_for_als = list()\n",
        "\n",
        "for ind, row in test_for_als_df.iterrows():\n",
        "  # print(row[0])\n",
        "  # print(nba_df_per_minute.loc[nba_df_per_minute['Team']==row[0]].index[0])\n",
        "  # , nba_df.loc[nba_df['Team']==row[1]].index[0],float(row[2]))\n",
        "  test_for_als.append((nba_df_per_minute.loc[nba_df_per_minute['Team']==row[0]].index[0],\\\n",
        "            nba_df_per_minute.loc[nba_df_per_minute['Team']==row[1]].index[0],float(row[2])))\n",
        "  \n",
        "test_for_als_rdd = sc.parallelize(test_for_als)\n",
        "\n",
        "\n",
        "test_for_als_rdd = test_for_als_rdd.map(lambda x:(x[0],x[1]))\n",
        "preds_als_rdd = model.predictAll(test_for_als_rdd)\n",
        "print(preds_als_rdd.collect())"
      ],
      "execution_count": 45,
      "outputs": [
        {
          "output_type": "stream",
          "text": [
            "[Rating(user=19, product=2, rating=1.3164124660328156), Rating(user=22, product=0, rating=1.6628841660973421), Rating(user=28, product=3, rating=1.8341599651507074), Rating(user=24, product=4, rating=1.8112624059068096), Rating(user=24, product=23, rating=1.2187311290536158), Rating(user=23, product=17, rating=1.7751001392232872), Rating(user=23, product=3, rating=1.7641218731703452), Rating(user=1, product=10, rating=1.4918588419840866), Rating(user=17, product=0, rating=1.457758147825114), Rating(user=7, product=17, rating=1.80200880302354), Rating(user=9, product=23, rating=1.9164799118617353), Rating(user=10, product=17, rating=1.584780115236839), Rating(user=5, product=3, rating=1.7828672130410022), Rating(user=5, product=20, rating=1.6745124707835544), Rating(user=2, product=0, rating=1.4273945576666875)]\n"
          ],
          "name": "stdout"
        }
      ]
    },
    {
      "cell_type": "code",
      "metadata": {
        "id": "2lHTikLQADbp",
        "colab_type": "code",
        "colab": {
          "base_uri": "https://localhost:8080/",
          "height": 51
        },
        "outputId": "e99f720a-2471-412b-956c-e121bd3074bd"
      },
      "source": [
        "transformed_test = preds_als_rdd.map(lambda x: (x.user,x.product, 2 if x.rating > 1.5 else 1))\n",
        "score = 0\n",
        "preds_als = list()\n",
        "for row in transformed_test.collect():\n",
        "  team1 = nba_df_per_minute.iloc[row[0]]['Team']\n",
        "  team2 = nba_df_per_minute.iloc[row[1]]['Team']\n",
        "  winner = team1_vs_team2.loc[(team1_vs_team2['team1']== team1) & (team1_vs_team2['team2']== team2)]\n",
        "  score += 1 if winner.iloc[0]['winner'] == row[2] else 0\n",
        "  preds_als.append(row[2]) \n",
        "\n",
        "print(score,transformed_test.count())\n",
        "score/transformed_test.count()"
      ],
      "execution_count": 46,
      "outputs": [
        {
          "output_type": "stream",
          "text": [
            "10 15\n"
          ],
          "name": "stdout"
        },
        {
          "output_type": "execute_result",
          "data": {
            "text/plain": [
              "0.6666666666666666"
            ]
          },
          "metadata": {
            "tags": []
          },
          "execution_count": 46
        }
      ]
    },
    {
      "cell_type": "code",
      "metadata": {
        "id": "cjK3nYbPBHBu",
        "colab_type": "code",
        "colab": {
          "base_uri": "https://localhost:8080/",
          "height": 527
        },
        "outputId": "06ffbdf8-50a1-48d4-ae2d-72462e089236"
      },
      "source": [
        "\n",
        "transformed = team1_vs_team2[['team1','team2','winner']]\n",
        "print(transformed['winner'])\n",
        "transformed['winner'] = np.where(transformed['winner'] == 1, 2, 1)\n",
        "print(transformed['winner'])"
      ],
      "execution_count": 47,
      "outputs": [
        {
          "output_type": "stream",
          "text": [
            "0       2\n",
            "1       2\n",
            "2       2\n",
            "3       1\n",
            "4       2\n",
            "       ..\n",
            "1225    1\n",
            "1226    2\n",
            "1227    2\n",
            "1228    2\n",
            "1229    2\n",
            "Name: winner, Length: 1230, dtype: int64\n",
            "0       1\n",
            "1       1\n",
            "2       1\n",
            "3       2\n",
            "4       1\n",
            "       ..\n",
            "1225    2\n",
            "1226    1\n",
            "1227    1\n",
            "1228    1\n",
            "1229    1\n",
            "Name: winner, Length: 1230, dtype: int64\n"
          ],
          "name": "stdout"
        },
        {
          "output_type": "stream",
          "text": [
            "/usr/local/lib/python3.6/dist-packages/ipykernel_launcher.py:4: SettingWithCopyWarning: \n",
            "A value is trying to be set on a copy of a slice from a DataFrame.\n",
            "Try using .loc[row_indexer,col_indexer] = value instead\n",
            "\n",
            "See the caveats in the documentation: http://pandas.pydata.org/pandas-docs/stable/user_guide/indexing.html#returning-a-view-versus-a-copy\n",
            "  after removing the cwd from sys.path.\n"
          ],
          "name": "stderr"
        }
      ]
    },
    {
      "cell_type": "code",
      "metadata": {
        "id": "I4gWWWEsK4nu",
        "colab_type": "code",
        "colab": {
          "base_uri": "https://localhost:8080/",
          "height": 170
        },
        "outputId": "aa0a90e3-0a6e-4187-d7db-14e56b55618d"
      },
      "source": [
        "print(classification_report(preds_als, y_test))"
      ],
      "execution_count": 48,
      "outputs": [
        {
          "output_type": "stream",
          "text": [
            "              precision    recall  f1-score   support\n",
            "\n",
            "           1       0.25      0.20      0.22         5\n",
            "           2       0.64      0.70      0.67        10\n",
            "\n",
            "    accuracy                           0.53        15\n",
            "   macro avg       0.44      0.45      0.44        15\n",
            "weighted avg       0.51      0.53      0.52        15\n",
            "\n"
          ],
          "name": "stdout"
        }
      ]
    },
    {
      "cell_type": "code",
      "metadata": {
        "id": "mP1USky6L3qx",
        "colab_type": "code",
        "colab": {
          "base_uri": "https://localhost:8080/",
          "height": 323
        },
        "outputId": "154748dc-5a98-48a6-8741-e84854cc5248"
      },
      "source": [
        "print(team1_vs_team2_res)"
      ],
      "execution_count": 49,
      "outputs": [
        {
          "output_type": "stream",
          "text": [
            "                  team1                team2  winner   FG  ...  BLK  TOV   PF   PTS\n",
            "0       Houston Rockets     Dallas Mavericks       2 -212  ...  -83  -33   20  -609\n",
            "1        Indiana Pacers       Boston Celtics       1 -378  ...  -66  124  110  -678\n",
            "2      Sacramento Kings  Seattle SuperSonics       2  321  ...  -22   40  259   392\n",
            "3       New Jersey Nets           Miami Heat       2 -344  ... -166  -37 -171  -831\n",
            "4    Washington Wizards        Chicago Bulls       1  117  ...  -22  199  221   496\n",
            "5        Denver Nuggets    San Antonio Spurs       2  115  ...  -54  -98 -161   273\n",
            "6     Memphis Grizzlies         Phoenix Suns       2 -549  ...   23  -72 -347 -1393\n",
            "7    Philadelphia 76ers      Detroit Pistons       2   95  ... -176 -141 -240   475\n",
            "8    Washington Wizards           Miami Heat       2 -131  ... -127  -45    7   -86\n",
            "9   Seattle SuperSonics    San Antonio Spurs       2  -41  ... -205   13 -227   225\n",
            "10       Indiana Pacers      Detroit Pistons       2 -183  ... -140  -40 -252   -27\n",
            "11     Dallas Mavericks         Phoenix Suns       2 -293  ...    8   23 -264  -649\n",
            "12    San Antonio Spurs         Phoenix Suns       1 -428  ...   90   -1 -154 -1166\n",
            "13      Detroit Pistons           Miami Heat       1 -246  ...   23   -6  176  -674\n",
            "14      Detroit Pistons    San Antonio Spurs       2  -72  ...  -46   -7   79  -235\n",
            "\n",
            "[15 rows x 20 columns]\n"
          ],
          "name": "stdout"
        }
      ]
    },
    {
      "cell_type": "code",
      "metadata": {
        "id": "YPIHxQfwvUhf",
        "colab_type": "code",
        "colab": {
          "base_uri": "https://localhost:8080/",
          "height": 285
        },
        "outputId": "b0a72cde-97d6-4d4a-9a50-46262d7b64b5"
      },
      "source": [
        "import matplotlib.pyplot as plt \n",
        "sns.set()\n",
        "# x-coordinates of left sides of bars \n",
        "left = [1, 2, 3, 4, 5, 6, 7] \n",
        "\n",
        "# heights of bars \n",
        "height = [73, 67, 67, 73, 80, 60, 73] \n",
        "\n",
        "# labels for bars \n",
        "tick_label = ['LR', 'NB', 'DT', 'RF', 'ADB', 'MF','ME'] \n",
        "\n",
        "# plotting a bar chart \n",
        "plt.bar(left, height, tick_label = tick_label, \n",
        "\t\twidth = 0.8) \n",
        "\n",
        "# naming the x-axis \n",
        "plt.xlabel('Model') \n",
        "# naming the y-axis \n",
        "plt.ylabel('Accuracy') \n",
        "# plot title \n",
        "# plt.title('Performance chart!') \n",
        "\n",
        "# function to show the plot \n",
        "plt.show() \n"
      ],
      "execution_count": 50,
      "outputs": [
        {
          "output_type": "display_data",
          "data": {
            "image/png": "[encoded data removed]",
            "text/plain": [
              "<Figure size 432x288 with 1 Axes>"
            ]
          },
          "metadata": {
            "tags": []
          }
        }
      ]
    }
  ]
}